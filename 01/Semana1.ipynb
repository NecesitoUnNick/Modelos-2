{
 "cells": [
  {
   "cell_type": "markdown",
   "metadata": {},
   "source": [
    "## MIIA-4203 MODELOS AVANZADOS PARA ANÁLISIS DE DATOS II\n",
    "\n",
    "\n",
    "# Introducción al aprendizaje computacional\n",
    "\n",
    "## Actividad 1\n",
    "\n",
    "### Profesor: Camilo Franco (c.franco31@uniandes.edu.co)\n",
    "\n",
    "\n",
    "\n",
    "En esta actividad vamos a estudiar una primera aproximación a los modelos de aprendizaje computacional, utilizando como base un problema de clasifiación y el modelo de clasificación logístico.\n"
   ]
  },
  {
   "cell_type": "markdown",
   "metadata": {},
   "source": [
    "## Actividad en grupos\n",
    "### Nombres:\n",
    "\n",
    "**Instrucciones:** Por favor escriba los nombres de los integrantes de su grupo. Esta actividad debe ser entregada a más tardar dentro de 8 días, con la respuesta para los ejercicios y preguntas en cada numeral.\n",
    "\n"
   ]
  },
  {
   "cell_type": "markdown",
   "metadata": {},
   "source": [
    "## 1. Aprendizaje computacional\n",
    "\n",
    "El aprendizaje computacional o **Machine Learning** (ML), utiliza algoritmos con parámetros libres que se puedan ajustar de manera automática, con el objetivo de mejorar el desempeño de los modelos a partir de la información disponible.\n",
    "\n",
    "El aprendizaje computacional se circunscribe en el campo de la Inteligencia Computacional, o lo que se conoce como Inteligencia Artificial, mediante la búsqueda de patrones a partir de los *Datos*. Entonces, los algoritmos desarrollados dentro del Machine Learning (ML a partir de ahora) se pueden entender como los bloques fundacionales que permiten aprender computacionalmente a partir de los datos. De esta manera, generalizando los datos en lugar de solo almacenarlos y devolver busquedas específicas, como en los sistemas relacionales de bases de datos.\n",
    "\n",
    "\n",
    "### Tipos de aprendizaje\n",
    "\n",
    "Los tipos de problemas sobre los que se trabaja en ML se pueden entender como de tipo **supervisado**, **no supervisado**, y **semi-supervisado**. \n",
    "\n",
    "**Aprendizaje supervisado**\n",
    "\n",
    "El aprendizaje supervisado se refiere a modelos, o conjuntos de algoritmos, que aproximan o estiman una función $f(x)$ que representa la relación entre la variable dependiente $Y$ (etiqueta o valor objetivo) y el conjunto de variables independientes $X$. Por ello a los algoritmos de tipo supervisado se les asocia usualmente con modelos predictivos, donde dado un conjunto de datos $X$, se puede predecir un nuevo valor de la variable dependiente $Y$. \n",
    "\n",
    "De acuerdo con el tipo de valores en $Y$, se pueden definir dos tipos principales de problemas y algoritmos para analizar los datos:\n",
    "\n",
    "- Problemas de clasificación\n",
    "\n",
    "Siempre que la variable $Y$ se refiera a un grupo de categorías (valores sin ningún orden en particular), como por ejemplo bueno/malo, pequeño/grande, la tarea de predecir $Y$ puede ser considerada como un problema de clasificación. En este sentido, las variables de salida se conocen como etiquetas o categorías.\n",
    "\n",
    "- Problemas de regresión\n",
    "\n",
    "Un problema de regresión consiste en estimar y/o predecir una variable dependiente (o valor objetivo) $Y$ con valores continuos. Por ejemplo, predecir el precio de una vivienda, de acciones, alimentos, etc. \n",
    "\n",
    "**Aprendizaje no-supervisado**\n",
    "    \n",
    "El aprendizaje no-supervisado considera problemas donde la variable dependiente $Y$, o las etiquetas para el conjunto de datos, no está disponible. Es decir, cuando $Y$ no está contenida en el conjunto de datos. Entonces, en lugar de estimar o predecir una variable, un algoritmo no-supervisado utiliza técnicas sobre el conjunto de datos de entrada $X$ para detectar patrones, encontrar reglas, o resumir y agrupar los datos. Usualmente, los algoritmos no-supervisados son utilizados para el análisis descriptivo y la modelación, donde se necesita una primera aproximación a los datos, desarrollar una intuición y extraer nuevo conocmiento que es desconocido para el analista y/o experto. \n",
    "\n",
    "En el aprendizaje no-supervisado, se tienen dos tareas principales, la reducción de dimensionalidad y el análisis de clustering.\n",
    "\n",
    "- Reducción de dimensionalidad \n",
    "\n",
    "La reducción de dimensionalidad busca encontrar la estructura subyacente de los datos, reduciendo la cantidad de información disponible en el conjunto de datos $X$. Por ejemlo, es muy conocido el análisis de componentes principales. \n",
    "\n",
    "- Clustering \n",
    "\n",
    "El análisis de clustering consiste en agrupar un conjunto de datos $X$ de manera que cada grupo contenga observaciones más similares entre sí que con las observaciones de otros grupos. Estos grupos son denominados *clusters*. Es una técnica bastante común para la exploración de los datos y su análisis. \n",
    "\n",
    "\n",
    "#### Otros tipos de aprendizaje\n",
    "\n",
    "Más allá de estos dos tipos de aprendizaje presentados anteriormente, existen otros tipos que son bastante útiles dependiendo de la naturaleza del problema. Por ejemplo, el **aprendizaje semi-supervisado** (https://medium.com/inside-machine-learning/placeholder-3557ebb3d470) o el **aprendizaje por refuerzo** (https://medium.com/machine-learning-for-humans/reinforcement-learning-6eacf258b265) "
   ]
  },
  {
   "cell_type": "markdown",
   "metadata": {},
   "source": [
    "## 2. Problema de clasificación: riesgo de default\n",
    "\n",
    "### 2.1 Datos\n",
    "\n",
    "Como hemos visto, una tarea muy usual dentro del ML es la de la clasificación. Pero antes, vamos a importar las bibliotecas que vamos a usar en este cuaderno."
   ]
  },
  {
   "cell_type": "code",
   "execution_count": 15,
   "metadata": {},
   "outputs": [],
   "source": [
    "# Algunos paquetes iniciales que vamos a utilizar\n",
    "import pandas as pd\n",
    "import numpy as np \n",
    "import matplotlib\n",
    "import matplotlib.pyplot as plt\n"
   ]
  },
  {
   "cell_type": "markdown",
   "metadata": {},
   "source": [
    "https://archive.ics.uci.edu/ml/datasets/statlog+(german+credit+data)"
   ]
  },
  {
   "cell_type": "code",
   "execution_count": 16,
   "metadata": {},
   "outputs": [],
   "source": [
    "data = pd.read_csv(\"germancredit.csv\")"
   ]
  },
  {
   "cell_type": "code",
   "execution_count": 17,
   "metadata": {},
   "outputs": [
    {
     "data": {
      "text/html": [
       "<div>\n",
       "<style scoped>\n",
       "    .dataframe tbody tr th:only-of-type {\n",
       "        vertical-align: middle;\n",
       "    }\n",
       "\n",
       "    .dataframe tbody tr th {\n",
       "        vertical-align: top;\n",
       "    }\n",
       "\n",
       "    .dataframe thead th {\n",
       "        text-align: right;\n",
       "    }\n",
       "</style>\n",
       "<table border=\"1\" class=\"dataframe\">\n",
       "  <thead>\n",
       "    <tr style=\"text-align: right;\">\n",
       "      <th></th>\n",
       "      <th>Default</th>\n",
       "      <th>checkingstatus1</th>\n",
       "      <th>duration</th>\n",
       "      <th>history</th>\n",
       "      <th>purpose</th>\n",
       "      <th>amount</th>\n",
       "      <th>savings</th>\n",
       "      <th>employ</th>\n",
       "      <th>installment</th>\n",
       "      <th>status</th>\n",
       "      <th>...</th>\n",
       "      <th>residence</th>\n",
       "      <th>property</th>\n",
       "      <th>age</th>\n",
       "      <th>otherplans</th>\n",
       "      <th>housing</th>\n",
       "      <th>cards</th>\n",
       "      <th>job</th>\n",
       "      <th>liable</th>\n",
       "      <th>tele</th>\n",
       "      <th>foreign</th>\n",
       "    </tr>\n",
       "  </thead>\n",
       "  <tbody>\n",
       "    <tr>\n",
       "      <th>0</th>\n",
       "      <td>0</td>\n",
       "      <td>A11</td>\n",
       "      <td>6</td>\n",
       "      <td>A34</td>\n",
       "      <td>A43</td>\n",
       "      <td>1169</td>\n",
       "      <td>A65</td>\n",
       "      <td>A75</td>\n",
       "      <td>4</td>\n",
       "      <td>A93</td>\n",
       "      <td>...</td>\n",
       "      <td>4</td>\n",
       "      <td>A121</td>\n",
       "      <td>67</td>\n",
       "      <td>A143</td>\n",
       "      <td>A152</td>\n",
       "      <td>2</td>\n",
       "      <td>A173</td>\n",
       "      <td>1</td>\n",
       "      <td>A192</td>\n",
       "      <td>A201</td>\n",
       "    </tr>\n",
       "    <tr>\n",
       "      <th>1</th>\n",
       "      <td>1</td>\n",
       "      <td>A12</td>\n",
       "      <td>48</td>\n",
       "      <td>A32</td>\n",
       "      <td>A43</td>\n",
       "      <td>5951</td>\n",
       "      <td>A61</td>\n",
       "      <td>A73</td>\n",
       "      <td>2</td>\n",
       "      <td>A92</td>\n",
       "      <td>...</td>\n",
       "      <td>2</td>\n",
       "      <td>A121</td>\n",
       "      <td>22</td>\n",
       "      <td>A143</td>\n",
       "      <td>A152</td>\n",
       "      <td>1</td>\n",
       "      <td>A173</td>\n",
       "      <td>1</td>\n",
       "      <td>A191</td>\n",
       "      <td>A201</td>\n",
       "    </tr>\n",
       "    <tr>\n",
       "      <th>2</th>\n",
       "      <td>0</td>\n",
       "      <td>A14</td>\n",
       "      <td>12</td>\n",
       "      <td>A34</td>\n",
       "      <td>A46</td>\n",
       "      <td>2096</td>\n",
       "      <td>A61</td>\n",
       "      <td>A74</td>\n",
       "      <td>2</td>\n",
       "      <td>A93</td>\n",
       "      <td>...</td>\n",
       "      <td>3</td>\n",
       "      <td>A121</td>\n",
       "      <td>49</td>\n",
       "      <td>A143</td>\n",
       "      <td>A152</td>\n",
       "      <td>1</td>\n",
       "      <td>A172</td>\n",
       "      <td>2</td>\n",
       "      <td>A191</td>\n",
       "      <td>A201</td>\n",
       "    </tr>\n",
       "    <tr>\n",
       "      <th>3</th>\n",
       "      <td>0</td>\n",
       "      <td>A11</td>\n",
       "      <td>42</td>\n",
       "      <td>A32</td>\n",
       "      <td>A42</td>\n",
       "      <td>7882</td>\n",
       "      <td>A61</td>\n",
       "      <td>A74</td>\n",
       "      <td>2</td>\n",
       "      <td>A93</td>\n",
       "      <td>...</td>\n",
       "      <td>4</td>\n",
       "      <td>A122</td>\n",
       "      <td>45</td>\n",
       "      <td>A143</td>\n",
       "      <td>A153</td>\n",
       "      <td>1</td>\n",
       "      <td>A173</td>\n",
       "      <td>2</td>\n",
       "      <td>A191</td>\n",
       "      <td>A201</td>\n",
       "    </tr>\n",
       "    <tr>\n",
       "      <th>4</th>\n",
       "      <td>1</td>\n",
       "      <td>A11</td>\n",
       "      <td>24</td>\n",
       "      <td>A33</td>\n",
       "      <td>A40</td>\n",
       "      <td>4870</td>\n",
       "      <td>A61</td>\n",
       "      <td>A73</td>\n",
       "      <td>3</td>\n",
       "      <td>A93</td>\n",
       "      <td>...</td>\n",
       "      <td>4</td>\n",
       "      <td>A124</td>\n",
       "      <td>53</td>\n",
       "      <td>A143</td>\n",
       "      <td>A153</td>\n",
       "      <td>2</td>\n",
       "      <td>A173</td>\n",
       "      <td>2</td>\n",
       "      <td>A191</td>\n",
       "      <td>A201</td>\n",
       "    </tr>\n",
       "  </tbody>\n",
       "</table>\n",
       "<p>5 rows × 21 columns</p>\n",
       "</div>"
      ],
      "text/plain": [
       "   Default checkingstatus1  duration history purpose  amount savings employ  \\\n",
       "0        0             A11         6     A34     A43    1169     A65    A75   \n",
       "1        1             A12        48     A32     A43    5951     A61    A73   \n",
       "2        0             A14        12     A34     A46    2096     A61    A74   \n",
       "3        0             A11        42     A32     A42    7882     A61    A74   \n",
       "4        1             A11        24     A33     A40    4870     A61    A73   \n",
       "\n",
       "   installment status  ... residence  property age  otherplans housing cards  \\\n",
       "0            4    A93  ...         4      A121  67        A143    A152     2   \n",
       "1            2    A92  ...         2      A121  22        A143    A152     1   \n",
       "2            2    A93  ...         3      A121  49        A143    A152     1   \n",
       "3            2    A93  ...         4      A122  45        A143    A153     1   \n",
       "4            3    A93  ...         4      A124  53        A143    A153     2   \n",
       "\n",
       "    job liable  tele foreign  \n",
       "0  A173      1  A192    A201  \n",
       "1  A173      1  A191    A201  \n",
       "2  A172      2  A191    A201  \n",
       "3  A173      2  A191    A201  \n",
       "4  A173      2  A191    A201  \n",
       "\n",
       "[5 rows x 21 columns]"
      ]
     },
     "execution_count": 17,
     "metadata": {},
     "output_type": "execute_result"
    }
   ],
   "source": [
    "data.head()"
   ]
  },
  {
   "cell_type": "code",
   "execution_count": 18,
   "metadata": {},
   "outputs": [
    {
     "data": {
      "text/plain": [
       "Default             int64\n",
       "checkingstatus1    object\n",
       "duration            int64\n",
       "history            object\n",
       "purpose            object\n",
       "amount              int64\n",
       "savings            object\n",
       "employ             object\n",
       "installment         int64\n",
       "status             object\n",
       "others             object\n",
       "residence           int64\n",
       "property           object\n",
       "age                 int64\n",
       "otherplans         object\n",
       "housing            object\n",
       "cards               int64\n",
       "job                object\n",
       "liable              int64\n",
       "tele               object\n",
       "foreign            object\n",
       "dtype: object"
      ]
     },
     "execution_count": 18,
     "metadata": {},
     "output_type": "execute_result"
    }
   ],
   "source": [
    "data.dtypes"
   ]
  },
  {
   "cell_type": "code",
   "execution_count": 19,
   "metadata": {},
   "outputs": [
    {
     "data": {
      "text/plain": [
       "0    700\n",
       "1    300\n",
       "Name: Default, dtype: int64"
      ]
     },
     "execution_count": 19,
     "metadata": {},
     "output_type": "execute_result"
    }
   ],
   "source": [
    "data.Default.value_counts()"
   ]
  },
  {
   "cell_type": "markdown",
   "metadata": {},
   "source": [
    "La clase positiva (default=1) tiene menos casos.  Además, es 5 veces más costoso clasificar a un usuario como bueno (Defualt=0) cuando es malo (Default=1), que clasificarlo como malo cuando es bueno."
   ]
  },
  {
   "cell_type": "code",
   "execution_count": 20,
   "metadata": {},
   "outputs": [
    {
     "data": {
      "text/plain": [
       "A201    963\n",
       "A202     37\n",
       "Name: foreign, dtype: int64"
      ]
     },
     "execution_count": 20,
     "metadata": {},
     "output_type": "execute_result"
    }
   ],
   "source": [
    "data.foreign.value_counts()"
   ]
  },
  {
   "cell_type": "markdown",
   "metadata": {},
   "source": [
    "Vemos que la mayoría de clientes de la base de datos son extranjeros."
   ]
  },
  {
   "cell_type": "markdown",
   "metadata": {},
   "source": [
    "## 2.2 Codificacion de variables categoricas"
   ]
  },
  {
   "cell_type": "code",
   "execution_count": 21,
   "metadata": {},
   "outputs": [
    {
     "name": "stdout",
     "output_type": "stream",
     "text": [
      "   Default  duration  amount  installment  residence  age  cards  liable  \\\n",
      "0        0         6    1169            4          4   67      2       1   \n",
      "1        1        48    5951            2          2   22      1       1   \n",
      "2        0        12    2096            2          3   49      1       2   \n",
      "3        0        42    7882            2          4   45      1       2   \n",
      "4        1        24    4870            3          4   53      2       2   \n",
      "\n",
      "   checkingstatus1_A11  checkingstatus1_A12  ...  housing_A152  housing_A153  \\\n",
      "0                    1                    0  ...             1             0   \n",
      "1                    0                    1  ...             1             0   \n",
      "2                    0                    0  ...             1             0   \n",
      "3                    1                    0  ...             0             1   \n",
      "4                    1                    0  ...             0             1   \n",
      "\n",
      "   job_A171  job_A172  job_A173  job_A174  tele_A191  tele_A192  foreign_A201  \\\n",
      "0         0         0         1         0          0          1             1   \n",
      "1         0         0         1         0          1          0             1   \n",
      "2         0         1         0         0          1          0             1   \n",
      "3         0         0         1         0          1          0             1   \n",
      "4         0         0         1         0          1          0             1   \n",
      "\n",
      "   foreign_A202  \n",
      "0             0  \n",
      "1             0  \n",
      "2             0  \n",
      "3             0  \n",
      "4             0  \n",
      "\n",
      "[5 rows x 62 columns]\n"
     ]
    }
   ],
   "source": [
    "credit_1 = data.copy()\n",
    "credit_1 = pd.get_dummies(credit_1, columns=['checkingstatus1','history','purpose','savings',\n",
    "                                   'employ','status','others','property','otherplans','housing','job','tele', \n",
    "                                   'foreign'], prefix = ['checkingstatus1','history','purpose','savings',\n",
    "                                   'employ','status','others','property','otherplans','housing','job','tele', \n",
    "                                   'foreign'])\n",
    "\n",
    "print(credit_1.head())"
   ]
  },
  {
   "cell_type": "code",
   "execution_count": 22,
   "metadata": {},
   "outputs": [
    {
     "data": {
      "text/plain": [
       "(1000, 61)"
      ]
     },
     "execution_count": 22,
     "metadata": {},
     "output_type": "execute_result"
    }
   ],
   "source": [
    "X = credit_1.iloc[:, 1:62]#[['duration','amount','installment','residence','age','cards','liable']]\n",
    "Y = credit_1.iloc[:, 0]\n",
    "X.shape"
   ]
  },
  {
   "cell_type": "markdown",
   "metadata": {},
   "source": [
    "### 3. Regresión logística\n",
    "\n",
    "Podemos estudiar un problema de clasificación desde una perspectiva probabilística, examinando una situación donde la variable respuesta ($Y_i$) consiste de dos categorías ($\\{0,1\\}$). La *regresión logística* estima la probabilidad de que una observación pertenezca a una de las dos categorías.\n",
    "\n",
    "Entonces se modela la función de probabilidad $p(Y_i=1)$ de tal manera que tome un valor entre 0 y 1. La función de regresión logística consiste en la función *sigmoide* ($\\sigma(\\cdot)$) $$ p(Y_i)=p(Y_i=1)=\\frac{e^{\\beta_0 + \\beta_1X_{1} + ... + \\beta_k X_{k}}}{1+e^{\\beta_0 + \\beta_1X_{1} + ... + \\beta_k X_{k}}}=\\frac{e^{Z_i}}{1+e^{Z_i}}=\\sigma(Z_i)$$\n",
    "donde se tiene que \n",
    "$$log\\frac{p(Y_i)}{1-p(Y_i)}=\\beta_0 + \\beta_1X_{1} + ... + \\beta_k X_{k}.  $$\n",
    "\n",
    "\n",
    "Por lo tanto, manteniendo todo lo demás constante, se puede estimar el cambio que una unidad extra en $X_1$ tiene sobre  el chance (o el *log-odds*) $log\\frac{p(Y_i)}{1-p(Y_i)}$. Esta estimación está dada por $\\hat \\beta_1$. \n",
    "\n",
    "\n",
    "Los coeficientes del modelo se pueden estimar por el método de máxima verosimilitud, buscando iterativamente estimadores que maximicen la función de verosimilitud: $$ F_{\\mathbf{\\beta}}=\\prod_{i:Y_i=1} p(Y_i)\\prod_{i':Y_{i'}=0}(1-p(Y_{i'})). $$\n",
    "\n",
    "\n",
    "Finalmente, la extensión del modelo logístico para múltiples clases o categorías ($C$) se hace calculando la probabilidad de una categoría ($C_i$) frente al resto y utilizando lo que se conoce como una función *softmax*: \n",
    "$$ \\sigma (Z_i )={\\frac {e^{Z_{i}}}{\\sum _{j=1}^{|C|}e^{Z_{j}}}}{\\text{ para }}i=1,\\dotsc ,|C|$$\n",
    "\n",
    "\n",
    "Miremos un ejemplo con nuestros datos sobre el comportamiento de los clientes del banco. Primero descargamos los paquetes que vamos a utilizar:"
   ]
  },
  {
   "cell_type": "code",
   "execution_count": 23,
   "metadata": {},
   "outputs": [],
   "source": [
    "from sklearn.linear_model import LogisticRegression\n",
    "from sklearn import model_selection"
   ]
  },
  {
   "cell_type": "markdown",
   "metadata": {},
   "source": [
    "Por defecto, la funcion `LogisticRegression()` encuentra una solución mediante el algoritmo de Broyden–Fletcher–Goldfarb–Shanno (BFGS):  https://en.wikipedia.org/wiki/Broyden%E2%80%93Fletcher%E2%80%93Goldfarb%E2%80%93Shanno_algorithm"
   ]
  },
  {
   "cell_type": "code",
   "execution_count": 24,
   "metadata": {},
   "outputs": [
    {
     "name": "stdout",
     "output_type": "stream",
     "text": [
      "[[ 2.54638903e-02  8.18758739e-05  2.31366685e-01 -6.72671870e-02\n",
      "  -2.32258192e-02  1.00462177e-01 -6.79857267e-02  7.29649035e-01\n",
      "   3.07203581e-01 -1.29593180e-01 -1.14686197e+00  3.06498501e-01\n",
      "   2.79986274e-01 -2.30349871e-01  1.23912990e-02 -6.08128738e-01\n",
      "   5.86988294e-01 -5.63438315e-01 -3.87355825e-02 -1.50121744e-01\n",
      "  -4.05535705e-01  1.19017330e-02  8.33166907e-02  2.22893902e-01\n",
      "  -4.99304711e-02  6.30586616e-02  4.42270529e-01  8.64257058e-02\n",
      "  -9.56082541e-02 -1.93565750e-01 -4.79124766e-01  5.14308719e-02\n",
      "   1.71290688e-01  3.53980188e-02 -4.74434582e-01 -2.32875324e-02\n",
      "   1.62176491e-01  9.13759610e-02 -3.96529153e-01 -9.66258351e-02\n",
      "  -4.03210712e-02  9.91280351e-02 -2.98409500e-01 -3.93602351e-01\n",
      "  -6.83185696e-02  4.24370295e-02  1.79881356e-01  2.21515166e-01\n",
      "   1.06740962e-01 -5.67858664e-01  7.49738768e-02 -3.22480611e-01\n",
      "   7.90419863e-03 -2.03551046e-02 -8.04564888e-02 -5.52918758e-02\n",
      "  -8.34990667e-02  1.95117906e-02 -2.59114327e-01  3.88937453e-03\n",
      "  -2.43491910e-01]]\n"
     ]
    },
    {
     "name": "stderr",
     "output_type": "stream",
     "text": [
      "C:\\ProgramData\\Anaconda3\\lib\\site-packages\\sklearn\\linear_model\\_logistic.py:940: ConvergenceWarning: lbfgs failed to converge (status=1):\n",
      "STOP: TOTAL NO. of ITERATIONS REACHED LIMIT.\n",
      "\n",
      "Increase the number of iterations (max_iter) or scale the data as shown in:\n",
      "    https://scikit-learn.org/stable/modules/preprocessing.html\n",
      "Please also refer to the documentation for alternative solver options:\n",
      "    https://scikit-learn.org/stable/modules/linear_model.html#logistic-regression\n",
      "  extra_warning_msg=_LOGISTIC_SOLVER_CONVERGENCE_MSG)\n"
     ]
    }
   ],
   "source": [
    "log = LogisticRegression(penalty='none', max_iter=100) \n",
    "log.fit(X, Y)\n",
    "y_pred_log = log.predict(X)\n",
    "log_coef = log.coef_\n",
    "print(log_coef)"
   ]
  },
  {
   "cell_type": "code",
   "execution_count": 25,
   "metadata": {},
   "outputs": [
    {
     "data": {
      "text/plain": [
       "array([100])"
      ]
     },
     "execution_count": 25,
     "metadata": {},
     "output_type": "execute_result"
    }
   ],
   "source": [
    "log.n_iter_"
   ]
  },
  {
   "cell_type": "markdown",
   "metadata": {},
   "source": [
    "### Ejercicio 3.1\n",
    "\n",
    "Ajuste las opciones de la funcion `LogisticRegression`para conseguir que la solucion converja. Puede examinar la documentación de Python: https://scikit-learn.org/stable/modules/linear_model.html#logistic-regression"
   ]
  },
  {
   "cell_type": "code",
   "execution_count": 26,
   "metadata": {},
   "outputs": [
    {
     "name": "stdout",
     "output_type": "stream",
     "text": [
      "[[ 2.81218993e-02  1.29413837e-04  2.90066927e-01 -1.45286944e-02\n",
      "  -1.71243784e-02  2.48486487e-01  1.09505583e-01  6.35399220e-01\n",
      "   1.34510414e-01 -3.55811804e-01 -1.02935352e+00  5.00034348e-01\n",
      "   4.26741401e-01 -1.54007549e-01 -2.93721085e-01 -1.09430280e+00\n",
      "   6.48834383e-01 -1.17739709e+00 -2.63031553e-01 -2.27074236e-01\n",
      "  -2.40459126e-01  3.50873848e-02  2.72529777e-01  6.03850775e-01\n",
      "  -1.92601028e-01 -7.49949736e-02  4.31177689e-01  1.15221291e-01\n",
      "  -2.19303350e-02 -5.30078979e-01 -6.09645354e-01  4.14612722e-02\n",
      "   1.27905944e-01 -1.02730286e-02 -7.47529778e-01 -2.68200983e-02\n",
      "   2.98895788e-01 -8.07250358e-02 -5.94657946e-01 -2.38768494e-01\n",
      "  -4.30608472e-02  2.92955061e-01 -8.65149902e-01 -3.95827084e-01\n",
      "  -1.16440974e-01 -2.56328611e-01  1.53340980e-01 -9.21130858e-02\n",
      "   6.59837886e-02 -5.89126391e-01  5.86181990e-02 -3.48702305e-01\n",
      "  -3.25171582e-01 -1.70946903e-01 -9.75523178e-02 -1.16399059e-01\n",
      "  -2.30357408e-01 -1.41832736e-01 -4.73422952e-01  1.53538186e-01\n",
      "  -7.68793875e-01]]\n"
     ]
    }
   ],
   "source": [
    "log = LogisticRegression(penalty='none', max_iter=5000)\n",
    "log.fit(X, Y)\n",
    "y_pred_log = log.predict(X)\n",
    "log_coef = log.coef_\n",
    "print(log_coef)"
   ]
  },
  {
   "cell_type": "code",
   "execution_count": 27,
   "metadata": {},
   "outputs": [
    {
     "data": {
      "text/plain": [
       "array([633])"
      ]
     },
     "execution_count": 27,
     "metadata": {},
     "output_type": "execute_result"
    }
   ],
   "source": [
    "log.n_iter_"
   ]
  },
  {
   "cell_type": "markdown",
   "metadata": {},
   "source": [
    "## Pregunta 3.2 \n",
    "\n",
    "Cuántas iteraciones necesitó?"
   ]
  },
  {
   "cell_type": "code",
   "execution_count": 28,
   "metadata": {},
   "outputs": [
    {
     "ename": "SyntaxError",
     "evalue": "invalid syntax (<ipython-input-28-8fa8548fc48d>, line 1)",
     "output_type": "error",
     "traceback": [
      "\u001b[1;36m  File \u001b[1;32m\"<ipython-input-28-8fa8548fc48d>\"\u001b[1;36m, line \u001b[1;32m1\u001b[0m\n\u001b[1;33m    >=634\u001b[0m\n\u001b[1;37m     ^\u001b[0m\n\u001b[1;31mSyntaxError\u001b[0m\u001b[1;31m:\u001b[0m invalid syntax\n"
     ]
    }
   ],
   "source": [
    ">=634"
   ]
  },
  {
   "cell_type": "markdown",
   "metadata": {},
   "source": [
    "## 4. Construccion de modelos predictivos"
   ]
  },
  {
   "cell_type": "markdown",
   "metadata": {},
   "source": [
    "Partimos los datos de manera aleatoria en un conjunto de entrenamiento y otro de prueba. De esta manera, estimamos los coeficientes sobre los datos de entrenamiento, y ese mismo modelo lo probamos sobre los datos de prueba con el fin de controlar que el modelo esté generalizando bien y no se sobreajuste a los datos.\n",
    "\n",
    "A continuación ejecutamos el codigo para obtener una partición con el 40% de los datos en el conjunto de prueba. Nótese que por defecto la funcion `train_test_split` sigue una partición estratificada, es decir, mantiene la distribución inicial de las clases en ambos conjuntos de entrenamiento y prueba:\n"
   ]
  },
  {
   "cell_type": "code",
   "execution_count": 29,
   "metadata": {},
   "outputs": [
    {
     "name": "stdout",
     "output_type": "stream",
     "text": [
      "Tamaño de CE, CP:  (600,) (400,)\n",
      "Observaciones de la clase positiva en entrenamiento: 182 y en prueba: 118\n"
     ]
    }
   ],
   "source": [
    "X_train, X_test, y_train, y_test = model_selection.train_test_split(X, Y, test_size=0.4, random_state=42)\n",
    "print(\"Tamaño de CE, CP: \", y_train.shape, y_test.shape)\n",
    "print(\"Observaciones de la clase positiva en entrenamiento: \" +str(sum(y_train)) +\" y en prueba: \" +str(sum(y_test)))"
   ]
  },
  {
   "cell_type": "markdown",
   "metadata": {},
   "source": [
    "Lo podemos verificar:"
   ]
  },
  {
   "cell_type": "code",
   "execution_count": 30,
   "metadata": {},
   "outputs": [
    {
     "name": "stdout",
     "output_type": "stream",
     "text": [
      "Tamaño de CE, CP:  (600,) (400,)\n",
      "Observaciones de la clase positiva en entrenamiento: 180 y en prueba: 120\n"
     ]
    }
   ],
   "source": [
    "X_train, X_test, y_train, y_test = model_selection.train_test_split(X, Y, test_size=0.4, random_state=42, stratify=Y)\n",
    "print(\"Tamaño de CE, CP: \", y_train.shape, y_test.shape)\n",
    "print(\"Observaciones de la clase positiva en entrenamiento: \" +str(sum(y_train)) +\" y en prueba: \" +str(sum(y_test)))"
   ]
  },
  {
   "cell_type": "markdown",
   "metadata": {},
   "source": [
    "A continuación ajustamos el modelo logístico y lo probamos:"
   ]
  },
  {
   "cell_type": "code",
   "execution_count": 31,
   "metadata": {},
   "outputs": [],
   "source": [
    "logT = LogisticRegression(penalty='none', max_iter=1500)\n",
    "logT.fit(X_train, y_train)\n",
    "y_tr = logT.predict(X_train)\n",
    "y_pred = logT.predict(X_test)"
   ]
  },
  {
   "cell_type": "markdown",
   "metadata": {},
   "source": [
    "Con menos datos para entrenar probablemente el algoritmo necesite más iteraciones:"
   ]
  },
  {
   "cell_type": "code",
   "execution_count": 32,
   "metadata": {},
   "outputs": [
    {
     "data": {
      "text/plain": [
       "array([972])"
      ]
     },
     "execution_count": 32,
     "metadata": {},
     "output_type": "execute_result"
    }
   ],
   "source": [
    "logT.n_iter_"
   ]
  },
  {
   "cell_type": "markdown",
   "metadata": {},
   "source": [
    "Examinemos los coeficientes del modelo y su desviación con respecto a la estimación anterior (que utilizaba todos los datos de la muestra)."
   ]
  },
  {
   "cell_type": "code",
   "execution_count": 33,
   "metadata": {},
   "outputs": [
    {
     "name": "stdout",
     "output_type": "stream",
     "text": [
      "[[ 2.67256224e-02  9.07561212e-05  3.21351429e-01  8.71778328e-03\n",
      "  -5.57505928e-03  2.53573222e-01  4.35150500e-01  4.56202311e-01\n",
      "   2.02096972e-01 -4.18705840e-01 -1.12503302e+00  3.10695375e-01\n",
      "   4.25937221e-01 -2.20305190e-01 -2.36925136e-01 -1.16484184e+00\n",
      "   1.92382288e-01 -9.74559292e-01 -6.73991421e-01 -2.24324959e-01\n",
      "  -3.00779660e-01 -1.34428799e-01  1.41016969e-01  1.15157895e+00\n",
      "  -3.64191081e-03 -5.86917442e-02  7.38668385e-01  2.79652380e-01\n",
      "  -2.75545528e-01 -1.30959225e+00 -3.18622560e-01  7.66581978e-01\n",
      "  -3.33182817e-02 -2.16838480e-01 -1.12623223e+00 -2.75632556e-01\n",
      "   2.45707463e-01 -2.04820040e-01 -6.51978895e-01 -2.74348103e-01\n",
      "  -2.03425670e-01  2.86329255e-01 -9.68343160e-01 -5.72243449e-01\n",
      "  -3.00319574e-01 -2.39524250e-01  2.26647698e-01  1.00572732e-01\n",
      "  -8.07998870e-02 -9.05212421e-01  5.21935790e-01 -3.76536141e-01\n",
      "  -1.03083922e+00 -2.25042236e-01 -1.60790119e-01 -1.01049975e-01\n",
      "  -3.98557246e-01 -2.78013804e-01 -6.07425771e-01  5.26871388e-01\n",
      "  -1.41231096e+00]]\n"
     ]
    }
   ],
   "source": [
    "logT_coef = logT.coef_\n",
    "print(logT_coef)"
   ]
  },
  {
   "cell_type": "code",
   "execution_count": 34,
   "metadata": {},
   "outputs": [
    {
     "name": "stdout",
     "output_type": "stream",
     "text": [
      "[[ 1.39627698e-03  3.86577158e-05 -3.12845025e-02 -2.32464777e-02\n",
      "  -1.15493191e-02 -5.08673444e-03 -3.25644916e-01  1.79196909e-01\n",
      "  -6.75865577e-02  6.28940362e-02  9.56794998e-02  1.89338973e-01\n",
      "   8.04180482e-04  6.62976406e-02 -5.67959495e-02  7.05390419e-02\n",
      "   4.56452095e-01 -2.02837801e-01  4.10959868e-01 -2.74927682e-03\n",
      "   6.03205344e-02  1.69516184e-01  1.31512809e-01 -5.47728178e-01\n",
      "  -1.88959118e-01 -1.63032294e-02 -3.07490696e-01 -1.64431089e-01\n",
      "   2.53615193e-01  7.79513274e-01 -2.91022794e-01 -7.25120706e-01\n",
      "   1.61224226e-01  2.06565452e-01  3.78702457e-01  2.48812458e-01\n",
      "   5.31883255e-02  1.24095004e-01  5.73209493e-02  3.55796084e-02\n",
      "   1.60364823e-01  6.62580590e-03  1.03193259e-01  1.76416365e-01\n",
      "   1.83878600e-01 -1.68043614e-02 -7.33067171e-02 -1.92685818e-01\n",
      "   1.46783676e-01  3.16086030e-01 -4.63317591e-01  2.78338363e-02\n",
      "   7.05667642e-01  5.40953330e-02  6.32378009e-02 -1.53490845e-02\n",
      "   1.68199838e-01  1.36181068e-01  1.34002819e-01 -3.73333201e-01\n",
      "   6.43517089e-01]]\n"
     ]
    }
   ],
   "source": [
    "print(log_coef-logT_coef)"
   ]
  },
  {
   "cell_type": "markdown",
   "metadata": {},
   "source": [
    "### Ejercicio 4.1\n",
    "\n",
    "Implemente un proceso de validación cruzada cambiando la semilla de las particiones de train (CE) y test (CP). Estimae la varianza de los estimadores y concluya si su *mejor* modelo es estable entre distintas particiones."
   ]
  },
  {
   "cell_type": "code",
   "execution_count": 35,
   "metadata": {},
   "outputs": [],
   "source": [
    "from sklearn.linear_model import LogisticRegressionCV\n",
    "from sklearn.metrics import accuracy_score\n",
    "import random\n",
    "loglist = list()\n",
    "y_tr = list()\n",
    "y_pred = list()\n",
    "X_train_, X_test_, y_train_, y_test_ = (list(), list(), list(), list())\n",
    "score = list()\n",
    "for i in range(100):\n",
    "    X_train, X_test, y_train, y_test = model_selection.train_test_split(X, Y, test_size=0.4, random_state=i, stratify=Y)\n",
    "    X_train_.append(X_train)\n",
    "    y_train_.append(y_train)\n",
    "    X_test_.append(X_test)\n",
    "    y_test_.append(y_test)\n",
    "    loglist.append(LogisticRegressionCV(cv=5, max_iter=2000))\n",
    "    loglist[i].fit(X_train_[i], y_train_[i])\n",
    "    y_tr.append(loglist[i].predict(X_train_[i]))\n",
    "    y_pred.append(loglist[i].predict(X_test_[i]))\n",
    "    score.append(loglist[i].score(X_test,y_test))"
   ]
  },
  {
   "cell_type": "code",
   "execution_count": 36,
   "metadata": {},
   "outputs": [
    {
     "data": {
      "text/plain": [
       "DescribeResult(nobs=100, minmax=(0.705, 0.785), mean=0.7435499999999999, variance=0.0003206035353535354, skewness=0.29847861525853653, kurtosis=-0.48852518854873805)"
      ]
     },
     "execution_count": 36,
     "metadata": {},
     "output_type": "execute_result"
    }
   ],
   "source": [
    "import numpy as np\n",
    "from scipy import stats\n",
    "stats.describe(score)"
   ]
  },
  {
   "cell_type": "code",
   "execution_count": 37,
   "metadata": {},
   "outputs": [],
   "source": [
    "best_mdl_index = score.index(np.max(score))"
   ]
  },
  {
   "cell_type": "code",
   "execution_count": 38,
   "metadata": {},
   "outputs": [
    {
     "data": {
      "text/plain": [
       "70"
      ]
     },
     "execution_count": 38,
     "metadata": {},
     "output_type": "execute_result"
    }
   ],
   "source": [
    "best_mdl_index "
   ]
  },
  {
   "cell_type": "markdown",
   "metadata": {},
   "source": [
    "## 5. Evaluacion de los modelos\n",
    "Hasta ahora hemos estimado los parámetros del modelo logístico. Pero no hemos examinado si la solución es satisfactoria. A continuación examinemos el desempeño de los modelos a partir de su matriz de confusión: "
   ]
  },
  {
   "cell_type": "code",
   "execution_count": 39,
   "metadata": {},
   "outputs": [
    {
     "name": "stdout",
     "output_type": "stream",
     "text": [
      "[[248  32]\n",
      " [ 69  51]]\n"
     ]
    }
   ],
   "source": [
    "from sklearn.metrics import confusion_matrix\n",
    "\n",
    "# Calculamos la matriz de confusión para la prediccion\n",
    "cm_log = confusion_matrix(y_test_[14], y_pred[14])\n",
    "np.set_printoptions(precision=2)\n",
    "print(cm_log)"
   ]
  },
  {
   "cell_type": "markdown",
   "metadata": {},
   "source": [
    "Podemos mejorar esta visualización, añadiendo etiquetas para lo que es predicción y lo que es observado en la muestra:"
   ]
  },
  {
   "cell_type": "code",
   "execution_count": 40,
   "metadata": {},
   "outputs": [],
   "source": [
    "def plot_confusion_matrix(cm, title='Matriz de confusión', cmap=plt.cm.Blues):\n",
    "    plt.imshow(cm, interpolation='nearest', cmap=cmap)\n",
    "    plt.title(title)\n",
    "    plt.colorbar()\n",
    "    tick_marks = np.arange(2)\n",
    "    plt.xticks(tick_marks, labels, rotation=45)\n",
    "    plt.yticks(tick_marks, labels)\n",
    "    plt.tight_layout()\n",
    "    plt.ylabel('Etiqueta verdadera')\n",
    "    plt.xlabel('Etiqueta estimada')"
   ]
  },
  {
   "cell_type": "code",
   "execution_count": 41,
   "metadata": {},
   "outputs": [
    {
     "data": {
      "image/png": "[encoded data removed]",
      "text/plain": [
       "<Figure size 432x288 with 2 Axes>"
      ]
     },
     "metadata": {
      "needs_background": "light"
     },
     "output_type": "display_data"
    }
   ],
   "source": [
    "labels=['Bueno (Default=0)' ,'Malo (Default=1)']\n",
    "\n",
    "plt.figure()\n",
    "plot_confusion_matrix(cm_log)"
   ]
  },
  {
   "cell_type": "markdown",
   "metadata": {},
   "source": [
    "Podemos resumir estos resultados, por ejemplo mediante la métrica de *exactitud* o *accuracy*, la cual mide la proporción de aciertos sobre el total de casos.\n",
    "\n",
    "Para entrenamiento:"
   ]
  },
  {
   "cell_type": "code",
   "execution_count": 42,
   "metadata": {},
   "outputs": [
    {
     "data": {
      "text/plain": [
       "0.8016666666666666"
      ]
     },
     "execution_count": 42,
     "metadata": {},
     "output_type": "execute_result"
    }
   ],
   "source": [
    "float((y_tr[14] == y_train_[14]).mean())"
   ]
  },
  {
   "cell_type": "markdown",
   "metadata": {},
   "source": [
    "Para predicción:"
   ]
  },
  {
   "cell_type": "code",
   "execution_count": 43,
   "metadata": {},
   "outputs": [
    {
     "data": {
      "text/plain": [
       "0.7475"
      ]
     },
     "execution_count": 43,
     "metadata": {},
     "output_type": "execute_result"
    }
   ],
   "source": [
    "float((y_pred[14] == y_test_[14]).mean())"
   ]
  },
  {
   "cell_type": "markdown",
   "metadata": {},
   "source": [
    "### Ejercicio 5.1\n",
    "\n",
    "Calcule una métrica de desempeño que tome en cuenta el coste de errar, donde el coste de predecir que un mal cliente es bueno es 5 veces más alto que el de confundir un buen cliente con uno malo."
   ]
  },
  {
   "cell_type": "code",
   "execution_count": 44,
   "metadata": {},
   "outputs": [],
   "source": [
    "new_score = list()\n",
    "for i in range(100):\n",
    "    new_score.append(((y_pred[i] != y_test_[i]).astype(int)*5).mean())"
   ]
  },
  {
   "cell_type": "code",
   "execution_count": 45,
   "metadata": {},
   "outputs": [
    {
     "data": {
      "text/plain": [
       "1.075"
      ]
     },
     "execution_count": 45,
     "metadata": {},
     "output_type": "execute_result"
    }
   ],
   "source": [
    "np.min(new_score)"
   ]
  },
  {
   "cell_type": "code",
   "execution_count": 46,
   "metadata": {},
   "outputs": [
    {
     "data": {
      "text/plain": [
       "70"
      ]
     },
     "execution_count": 46,
     "metadata": {},
     "output_type": "execute_result"
    }
   ],
   "source": [
    "new_score.index(np.min(new_score))"
   ]
  },
  {
   "cell_type": "markdown",
   "metadata": {},
   "source": [
    "### Justicia algorítmica\n",
    "\n",
    "Veamos cómo se comporta el modelo de acuerdo con el origen (extranjero o local) del cliente. Por ejemplo, fijémonos en el balance inicial de los datos de la muestra:"
   ]
  },
  {
   "cell_type": "code",
   "execution_count": 47,
   "metadata": {},
   "outputs": [],
   "source": [
    "credit_2 = credit_1.copy()\n",
    "credit_3 = credit_2.loc[credit_2['foreign_A201'] == 1]\n",
    "X3 = credit_3.iloc[:, 1:62]\n",
    "Y3 = credit_3.iloc[:, 0]\n",
    "\n",
    "credit_4 = credit_2.loc[credit_2['foreign_A201'] == 0]\n",
    "X4 = credit_4.iloc[:, 1:62]\n",
    "Y4 = credit_4.iloc[:, 0]"
   ]
  },
  {
   "cell_type": "code",
   "execution_count": 48,
   "metadata": {},
   "outputs": [
    {
     "name": "stdout",
     "output_type": "stream",
     "text": [
      "El numero de clientes extranjeros de la muestra: 963 y los locales: 37\n"
     ]
    }
   ],
   "source": [
    "print(\"El numero de clientes extranjeros de la muestra: \" +str(X3.shape[0]) +\" y los locales: \" +str(X4.shape[0]))"
   ]
  },
  {
   "cell_type": "markdown",
   "metadata": {},
   "source": [
    "## Pregunta 5.2\n",
    "\n",
    "De los clientes locales cuantos han tenido Default?"
   ]
  },
  {
   "cell_type": "code",
   "execution_count": 49,
   "metadata": {},
   "outputs": [
    {
     "data": {
      "text/plain": [
       "4"
      ]
     },
     "execution_count": 49,
     "metadata": {},
     "output_type": "execute_result"
    }
   ],
   "source": [
    "np.sum(credit_4.Default == 1)"
   ]
  },
  {
   "cell_type": "markdown",
   "metadata": {},
   "source": [
    "Vemos que ya hay un sesgo en los datos de entrenamiento. Por lo tanto, podemos esperar que esto se vea reflejado en nuestro modelo:"
   ]
  },
  {
   "cell_type": "code",
   "execution_count": 50,
   "metadata": {},
   "outputs": [],
   "source": [
    "y_pred_f = logT.predict(X3)\n",
    "y_pred_l = logT.predict(X4)"
   ]
  },
  {
   "cell_type": "markdown",
   "metadata": {},
   "source": [
    "Veamos otra manera de visualizar la matriz de confusion:"
   ]
  },
  {
   "cell_type": "code",
   "execution_count": 51,
   "metadata": {},
   "outputs": [
    {
     "name": "stdout",
     "output_type": "stream",
     "text": [
      "Extranjeros:\n"
     ]
    },
    {
     "data": {
      "image/png": "[encoded data removed]",
      "text/plain": [
       "<Figure size 432x288 with 2 Axes>"
      ]
     },
     "metadata": {
      "needs_background": "light"
     },
     "output_type": "display_data"
    },
    {
     "name": "stdout",
     "output_type": "stream",
     "text": [
      "Locales:\n"
     ]
    },
    {
     "data": {
      "image/png": "[encoded data removed]",
      "text/plain": [
       "<Figure size 432x288 with 2 Axes>"
      ]
     },
     "metadata": {
      "needs_background": "light"
     },
     "output_type": "display_data"
    }
   ],
   "source": [
    "from sklearn.metrics import plot_confusion_matrix\n",
    "\n",
    "print(\"Extranjeros:\")\n",
    "plot_confusion_matrix(logT, X3, Y3, normalize='all')  \n",
    "plt.show() \n",
    "\n",
    "print(\"Locales:\")\n",
    "plot_confusion_matrix(logT, X4, Y4, normalize='all')  \n",
    "plt.show()"
   ]
  },
  {
   "cell_type": "markdown",
   "metadata": {},
   "source": [
    "Y las métricas de exactitud:"
   ]
  },
  {
   "cell_type": "code",
   "execution_count": 52,
   "metadata": {},
   "outputs": [
    {
     "name": "stdout",
     "output_type": "stream",
     "text": [
      "La exactitud para el usuario extranjero: 0.770508826583593\n",
      "La exactitud para el usuario local: 0.8918918918918919\n"
     ]
    }
   ],
   "source": [
    "print(\"La exactitud para el usuario extranjero:\", float((y_pred_f == Y3).mean()))\n",
    "print(\"La exactitud para el usuario local:\", float((y_pred_l == Y4).mean()))"
   ]
  },
  {
   "cell_type": "markdown",
   "metadata": {},
   "source": [
    "### Ejercicio 5.3\n",
    "\n",
    "Proponga una modelo de clasificación que detecte clientes con un alto riesgo de Default, teniendo en cuenta el costo de clasificar a un cliente erroneamente  junto con la \"equidad algoritmica\"."
   ]
  },
  {
   "cell_type": "code",
   "execution_count": 102,
   "metadata": {},
   "outputs": [
    {
     "data": {
      "text/plain": [
       "1    33\n",
       "0    33\n",
       "Name: Default, dtype: int64"
      ]
     },
     "execution_count": 102,
     "metadata": {},
     "output_type": "execute_result"
    }
   ],
   "source": [
    "from sklearn.utils import resample\n",
    "df_majority = credit_4[credit_4['Default'] == 0]\n",
    "df_minority = credit_4[credit_4['Default'] == 1]\n",
    "# Upsample minority class\n",
    "df_minority_upsampled = resample(df_minority, \n",
    "                                 replace=True,     # sample with replacement\n",
    "                                 n_samples=df_majority.shape[0],    # to match majority class\n",
    "                                 random_state=123) # reproducible results\n",
    "df_upsampled = pd.concat([df_majority, df_minority_upsampled])\n",
    "df_upsampled.Default.value_counts()"
   ]
  },
  {
   "cell_type": "code",
   "execution_count": 103,
   "metadata": {},
   "outputs": [
    {
     "data": {
      "text/plain": [
       "(1029, 62)"
      ]
     },
     "execution_count": 103,
     "metadata": {},
     "output_type": "execute_result"
    }
   ],
   "source": [
    "credit_5 = pd.concat([credit_3, df_upsampled])\n",
    "credit_5.shape"
   ]
  },
  {
   "cell_type": "code",
   "execution_count": 104,
   "metadata": {},
   "outputs": [
    {
     "data": {
      "text/plain": [
       "1    963\n",
       "0    963\n",
       "Name: foreign_A201, dtype: int64"
      ]
     },
     "execution_count": 104,
     "metadata": {},
     "output_type": "execute_result"
    }
   ],
   "source": [
    "from sklearn.utils import resample\n",
    "df_majority = credit_5[credit_5['foreign_A201'] == 1]\n",
    "df_minority = credit_5[credit_5['foreign_A201'] == 0]\n",
    " \n",
    "# Upsample minority class\n",
    "df_minority_upsampled = resample(df_minority, \n",
    "                                 replace=True,     # sample with replacement\n",
    "                                 n_samples=df_majority.shape[0],    # to match majority class\n",
    "                                 random_state=123) # reproducible results\n",
    "# Combine majority class with upsampled minority class\n",
    "credit_6 = pd.concat([df_majority, df_minority_upsampled])\n",
    "credit_6.foreign_A201.value_counts()"
   ]
  },
  {
   "cell_type": "code",
   "execution_count": 105,
   "metadata": {},
   "outputs": [
    {
     "data": {
      "text/plain": [
       "(1926, 61)"
      ]
     },
     "execution_count": 105,
     "metadata": {},
     "output_type": "execute_result"
    }
   ],
   "source": [
    "X = credit_6.iloc[:, 1:62]#[['duration','amount','installment','residence','age','cards','liable']]\n",
    "Y = credit_6.iloc[:, 0]\n",
    "X.shape"
   ]
  },
  {
   "cell_type": "code",
   "execution_count": 108,
   "metadata": {},
   "outputs": [
    {
     "name": "stdout",
     "output_type": "stream",
     "text": [
      "Tamaño de CE, CP:  (1155,) (771,)\n",
      "Observaciones de la clase positiva en entrenamiento: 450 y en prueba: 301\n"
     ]
    }
   ],
   "source": [
    "X_train, X_test, y_train, y_test = model_selection.train_test_split(X, Y, test_size=0.4, random_state=666, stratify=Y)\n",
    "print(\"Tamaño de CE, CP: \", y_train.shape, y_test.shape)\n",
    "print(\"Observaciones de la clase positiva en entrenamiento: \" +str(sum(y_train)) +\" y en prueba: \" +str(sum(y_test)))"
   ]
  },
  {
   "cell_type": "code",
   "execution_count": 109,
   "metadata": {},
   "outputs": [],
   "source": [
    "logT = LogisticRegression(penalty='none', max_iter=1500)\n",
    "logT.fit(X_train, y_train)\n",
    "y_tr = logT.predict(X_train)\n",
    "y_pred = logT.predict(X_test)"
   ]
  },
  {
   "cell_type": "code",
   "execution_count": 110,
   "metadata": {},
   "outputs": [],
   "source": [
    "credit_2 = credit_5.copy()\n",
    "credit_3 = credit_2.loc[credit_2['foreign_A201'] == 1]\n",
    "X3 = credit_3.iloc[:, 1:62]\n",
    "Y3 = credit_3.iloc[:, 0]\n",
    "\n",
    "credit_4 = credit_2.loc[credit_2['foreign_A201'] == 0]\n",
    "X4 = credit_4.iloc[:, 1:62]\n",
    "Y4 = credit_4.iloc[:, 0]"
   ]
  },
  {
   "cell_type": "code",
   "execution_count": 111,
   "metadata": {},
   "outputs": [],
   "source": [
    "y_pred_f = logT.predict(X3)\n",
    "y_pred_l = logT.predict(X4)"
   ]
  },
  {
   "cell_type": "code",
   "execution_count": 112,
   "metadata": {},
   "outputs": [
    {
     "name": "stdout",
     "output_type": "stream",
     "text": [
      "Extranjeros:\n"
     ]
    },
    {
     "data": {
      "image/png": "[encoded data removed]",
      "text/plain": [
       "<Figure size 432x288 with 2 Axes>"
      ]
     },
     "metadata": {
      "needs_background": "light"
     },
     "output_type": "display_data"
    },
    {
     "name": "stdout",
     "output_type": "stream",
     "text": [
      "Locales:\n"
     ]
    },
    {
     "data": {
      "image/png": "[encoded data removed]",
      "text/plain": [
       "<Figure size 432x288 with 2 Axes>"
      ]
     },
     "metadata": {
      "needs_background": "light"
     },
     "output_type": "display_data"
    }
   ],
   "source": [
    "from sklearn.metrics import plot_confusion_matrix\n",
    "\n",
    "print(\"Extranjeros:\")\n",
    "plot_confusion_matrix(logT, X3, Y3, normalize='all')  \n",
    "plt.show() \n",
    "\n",
    "print(\"Locales:\")\n",
    "plot_confusion_matrix(logT, X4, Y4, normalize='all')  \n",
    "plt.show()"
   ]
  },
  {
   "cell_type": "code",
   "execution_count": 113,
   "metadata": {},
   "outputs": [
    {
     "name": "stdout",
     "output_type": "stream",
     "text": [
      "La exactitud para el usuario extranjero: 0.7237798546209762\n",
      "La exactitud para el usuario local: 1.0\n"
     ]
    }
   ],
   "source": [
    "print(\"La exactitud para el usuario extranjero:\", float((y_pred_f == Y3).mean()))\n",
    "print(\"La exactitud para el usuario local:\", float((y_pred_l == Y4).mean()))"
   ]
  },
  {
   "cell_type": "markdown",
   "metadata": {},
   "source": [
    "### Lecturas avanzadas\n",
    "\n",
    "Para ler más sobre la ética algoritmica puede ver: Pessach, D., Shmueli, E. (2020) Algorithmic fairness. https://arxiv.org/abs/2001.09784 "
   ]
  },
  {
   "cell_type": "code",
   "execution_count": null,
   "metadata": {},
   "outputs": [],
   "source": [
    "☺"
   ]
  }
 ],
 "metadata": {
  "kernelspec": {
   "display_name": "Python 3",
   "language": "python",
   "name": "python3"
  },
  "language_info": {
   "codemirror_mode": {
    "name": "ipython",
    "version": 3
   },
   "file_extension": ".py",
   "mimetype": "text/x-python",
   "name": "python",
   "nbconvert_exporter": "python",
   "pygments_lexer": "ipython3",
   "version": "3.7.6"
  }
 },
 "nbformat": 4,
 "nbformat_minor": 2
}
