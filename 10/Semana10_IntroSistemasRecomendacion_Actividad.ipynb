{
 "cells": [
  {
   "cell_type": "markdown",
   "metadata": {},
   "source": [
    "## MIIA-4203 MODELOS AVANZADOS PARA ANÁLISIS DE DATOS II\n",
    "\n",
    "\n",
    "# Introducción a Sistemas de Recomendación\n",
    "\n",
    "## Actividad 10\n",
    "\n",
    "\n",
    "### Profesor: Camilo Franco (c.franco31@uniandes.edu.co)\n",
    "\n",
    "## Actividad en grupos\n",
    "### Nombres:\n",
    "\n",
    "**Instrucciones:** Por favor escriba los nombres de los integrantes de su grupo. Esta actividad debe ser entregada a más tardar dentro de 8 días, con la respuesta para los ejercicios y preguntas en cada numeral.\n",
    "\n",
    "En este cuadernos estudiaremos una primera introducción a los sistemas de recomendación, examinando un modelo de recomendación en base a la popularidad, sin ningún grado de personalización. En futuras actividades exploraremos otros sistemas basados en contenido o en filtrado colaborativo, los cuales toman en cuenta las preferencias de los usuarios. \n",
    "\n",
    "Los sistemas de recomendación están entre las aplicaciones más populares de la ciencia de datos actualmente. El marco que ofrecen estos sistemas permite representar modelos de decisión junto con métodos estadístico/computacionales para **aprender y estimar** las preferencias de los usuarios. \n"
   ]
  },
  {
   "cell_type": "markdown",
   "metadata": {},
   "source": [
    "## Introducción\n",
    "\n",
    "En esta introducción vamos a construir un modelo simple basado en popularidad. Aprenderemos nociones que nos permitirán construir modelos más complejos de recomendación. \n",
    "\n",
    "En este cuaderno vamos a trabajar con una base de datos de películas IMDB (https://www.imdb.com/) \n",
    "\n",
    "En términos generales, los sistemas de recomendación pueden clasificarse en 3 tipos:\n",
    "\n",
    "- **Recomendadores simples:** genera recomendaciones para cada usuario según la popularidad del ítem o producto. Por ejemplo, proponer películas o un género en base a su popularidad o su crítica, donde una buena crítica aproxima una mayor probabilidad de que la película sea apreciada por una audiencia \"promedio\".\n",
    "- **Recomendadores basados en contenido:** sugiere elementos similares en función de un elemento en particular, como por ejemplo el género, la sinopsis o el reparto (actores, etc). De esta manera, si el usuario tiene unas preferencias específicas sobre un ítem/artículo en particular, también podría tener preferencia por un ítem *similar*.\n",
    "- **Recomendadores por filtrado colaborativo:** estos sistemas generan recomendaciones a partir de similitudes entre usuarios, prediciendo la calificación o preferencia de un usuario sobre un ítem, o un grupo de atributos de dicho ítem, según las calificaciones y preferencias observadas de otros usuarios. \n",
    "\n",
    "Por último se puede considerar también un cuarto tipo de recomendadores, que son los de tipo **Híbrido**. Estos hacen referencia al uso simultaneo de las distintas metodologias antes señaladas y de múltiples fuentes de información o tecnologías específicas, como pueden ser las redes sociales o fuentes de información geográfica, demográfica, etc.\n",
    "\n",
    "Para profundizar en los sistemas de recomendación se pueden consultar las siguientes fuentes:\n",
    "- Ch. Aggarwal. Recommender Systems. Springer, 2016.\n",
    "- J. Leskovec, A. Rajaraman, J. Ullman. Mining of Massive Datasets. Cambridge University Press (http://www.mmds.org/)\n"
   ]
  },
  {
   "cell_type": "markdown",
   "metadata": {},
   "source": [
    "## 1. Sistema de recomendación simple"
   ]
  },
  {
   "cell_type": "markdown",
   "metadata": {},
   "source": [
    "Los recomendadores simples generan recomendaciones basadas en su popularidad, de acuerdo con una *preferencia promedio*. \n",
    "\n",
    "La pregunta es,\n",
    "\n",
    "**¿cómo medimos la popularidad de un producto/ítem?**\n",
    "\n",
    "Una opción es la de elegir una métrica determinada para puntuar las películas, y en base a esa métrica generar un valor de preferencia por el ítem. De esta manera es posible consturir un *orden lineal* o un *ranking estricto* con las mejores películas de la base de datos IMDB.\n",
    "\n",
    "Pasos a seguir:\n",
    "- Elegir la métrica con la que se va a calificar cada película. Este punto también se puede entender como un modelo para estimar las preferencias por una película.\n",
    "- Calcular el valor de preferencia sobre cada película.\n",
    "- Ordenar las películas según su valor o puntuación y obtener una lista con las mejores k peliculas.\n",
    "\n",
    "Manos a la obra, primero carguemos el conjunto de datos como un data frame en la bilbioteca Pandas:"
   ]
  },
  {
   "cell_type": "code",
   "execution_count": 1,
   "metadata": {},
   "outputs": [
    {
     "output_type": "stream",
     "name": "stdout",
     "text": [
      "(45466, 24)\n"
     ]
    },
    {
     "output_type": "execute_result",
     "data": {
      "text/plain": [
       "['adult',\n",
       " 'belongs_to_collection',\n",
       " 'budget',\n",
       " 'genres',\n",
       " 'homepage',\n",
       " 'id',\n",
       " 'imdb_id',\n",
       " 'original_language',\n",
       " 'original_title',\n",
       " 'overview',\n",
       " 'popularity',\n",
       " 'poster_path',\n",
       " 'production_companies',\n",
       " 'production_countries',\n",
       " 'release_date',\n",
       " 'revenue',\n",
       " 'runtime',\n",
       " 'spoken_languages',\n",
       " 'status',\n",
       " 'tagline',\n",
       " 'title',\n",
       " 'video',\n",
       " 'vote_average',\n",
       " 'vote_count']"
      ]
     },
     "metadata": {},
     "execution_count": 1
    }
   ],
   "source": [
    "# Importamos la biblioteca Pandas\n",
    "import pandas as pd\n",
    "\n",
    "# Cargamos los datos de peliculas de la base de datos IMDB\n",
    "metadata = pd.read_csv('movies_metadata.csv', low_memory=False)\n",
    "\n",
    "print(metadata.shape)\n",
    "      \n",
    "list(metadata)\n"
   ]
  },
  {
   "cell_type": "code",
   "execution_count": 2,
   "metadata": {},
   "outputs": [
    {
     "output_type": "execute_result",
     "data": {
      "text/plain": [
       "   adult                              belongs_to_collection    budget  \\\n",
       "0  False  {'id': 10194, 'name': 'Toy Story Collection', ...  30000000   \n",
       "1  False                                                NaN  65000000   \n",
       "2  False  {'id': 119050, 'name': 'Grumpy Old Men Collect...         0   \n",
       "\n",
       "                                              genres  \\\n",
       "0  [{'id': 16, 'name': 'Animation'}, {'id': 35, '...   \n",
       "1  [{'id': 12, 'name': 'Adventure'}, {'id': 14, '...   \n",
       "2  [{'id': 10749, 'name': 'Romance'}, {'id': 35, ...   \n",
       "\n",
       "                               homepage     id    imdb_id original_language  \\\n",
       "0  http://toystory.disney.com/toy-story    862  tt0114709                en   \n",
       "1                                   NaN   8844  tt0113497                en   \n",
       "2                                   NaN  15602  tt0113228                en   \n",
       "\n",
       "     original_title                                           overview  ...  \\\n",
       "0         Toy Story  Led by Woody, Andy's toys live happily in his ...  ...   \n",
       "1           Jumanji  When siblings Judy and Peter discover an encha...  ...   \n",
       "2  Grumpier Old Men  A family wedding reignites the ancient feud be...  ...   \n",
       "\n",
       "  release_date      revenue runtime  \\\n",
       "0   1995-10-30  373554033.0    81.0   \n",
       "1   1995-12-15  262797249.0   104.0   \n",
       "2   1995-12-22          0.0   101.0   \n",
       "\n",
       "                                    spoken_languages    status  \\\n",
       "0           [{'iso_639_1': 'en', 'name': 'English'}]  Released   \n",
       "1  [{'iso_639_1': 'en', 'name': 'English'}, {'iso...  Released   \n",
       "2           [{'iso_639_1': 'en', 'name': 'English'}]  Released   \n",
       "\n",
       "                                             tagline             title  video  \\\n",
       "0                                                NaN         Toy Story  False   \n",
       "1          Roll the dice and unleash the excitement!           Jumanji  False   \n",
       "2  Still Yelling. Still Fighting. Still Ready for...  Grumpier Old Men  False   \n",
       "\n",
       "  vote_average vote_count  \n",
       "0          7.7     5415.0  \n",
       "1          6.9     2413.0  \n",
       "2          6.5       92.0  \n",
       "\n",
       "[3 rows x 24 columns]"
      ],
      "text/html": "<div>\n<style scoped>\n    .dataframe tbody tr th:only-of-type {\n        vertical-align: middle;\n    }\n\n    .dataframe tbody tr th {\n        vertical-align: top;\n    }\n\n    .dataframe thead th {\n        text-align: right;\n    }\n</style>\n<table border=\"1\" class=\"dataframe\">\n  <thead>\n    <tr style=\"text-align: right;\">\n      <th></th>\n      <th>adult</th>\n      <th>belongs_to_collection</th>\n      <th>budget</th>\n      <th>genres</th>\n      <th>homepage</th>\n      <th>id</th>\n      <th>imdb_id</th>\n      <th>original_language</th>\n      <th>original_title</th>\n      <th>overview</th>\n      <th>...</th>\n      <th>release_date</th>\n      <th>revenue</th>\n      <th>runtime</th>\n      <th>spoken_languages</th>\n      <th>status</th>\n      <th>tagline</th>\n      <th>title</th>\n      <th>video</th>\n      <th>vote_average</th>\n      <th>vote_count</th>\n    </tr>\n  </thead>\n  <tbody>\n    <tr>\n      <th>0</th>\n      <td>False</td>\n      <td>{'id': 10194, 'name': 'Toy Story Collection', ...</td>\n      <td>30000000</td>\n      <td>[{'id': 16, 'name': 'Animation'}, {'id': 35, '...</td>\n      <td>http://toystory.disney.com/toy-story</td>\n      <td>862</td>\n      <td>tt0114709</td>\n      <td>en</td>\n      <td>Toy Story</td>\n      <td>Led by Woody, Andy's toys live happily in his ...</td>\n      <td>...</td>\n      <td>1995-10-30</td>\n      <td>373554033.0</td>\n      <td>81.0</td>\n      <td>[{'iso_639_1': 'en', 'name': 'English'}]</td>\n      <td>Released</td>\n      <td>NaN</td>\n      <td>Toy Story</td>\n      <td>False</td>\n      <td>7.7</td>\n      <td>5415.0</td>\n    </tr>\n    <tr>\n      <th>1</th>\n      <td>False</td>\n      <td>NaN</td>\n      <td>65000000</td>\n      <td>[{'id': 12, 'name': 'Adventure'}, {'id': 14, '...</td>\n      <td>NaN</td>\n      <td>8844</td>\n      <td>tt0113497</td>\n      <td>en</td>\n      <td>Jumanji</td>\n      <td>When siblings Judy and Peter discover an encha...</td>\n      <td>...</td>\n      <td>1995-12-15</td>\n      <td>262797249.0</td>\n      <td>104.0</td>\n      <td>[{'iso_639_1': 'en', 'name': 'English'}, {'iso...</td>\n      <td>Released</td>\n      <td>Roll the dice and unleash the excitement!</td>\n      <td>Jumanji</td>\n      <td>False</td>\n      <td>6.9</td>\n      <td>2413.0</td>\n    </tr>\n    <tr>\n      <th>2</th>\n      <td>False</td>\n      <td>{'id': 119050, 'name': 'Grumpy Old Men Collect...</td>\n      <td>0</td>\n      <td>[{'id': 10749, 'name': 'Romance'}, {'id': 35, ...</td>\n      <td>NaN</td>\n      <td>15602</td>\n      <td>tt0113228</td>\n      <td>en</td>\n      <td>Grumpier Old Men</td>\n      <td>A family wedding reignites the ancient feud be...</td>\n      <td>...</td>\n      <td>1995-12-22</td>\n      <td>0.0</td>\n      <td>101.0</td>\n      <td>[{'iso_639_1': 'en', 'name': 'English'}]</td>\n      <td>Released</td>\n      <td>Still Yelling. Still Fighting. Still Ready for...</td>\n      <td>Grumpier Old Men</td>\n      <td>False</td>\n      <td>6.5</td>\n      <td>92.0</td>\n    </tr>\n  </tbody>\n</table>\n<p>3 rows × 24 columns</p>\n</div>"
     },
     "metadata": {},
     "execution_count": 2
    }
   ],
   "source": [
    "# Así se ven los datos\n",
    "metadata.head(3)"
   ]
  },
  {
   "cell_type": "code",
   "execution_count": 3,
   "metadata": {},
   "outputs": [
    {
     "output_type": "execute_result",
     "data": {
      "text/plain": [
       "                original_title popularity\n",
       "1                      Jumanji  17.015539\n",
       "2             Grumpier Old Men    11.7129\n",
       "3            Waiting to Exhale   3.859495\n",
       "4  Father of the Bride Part II   8.387519\n",
       "5                         Heat  17.924927\n",
       "6                      Sabrina   6.677277\n",
       "7                 Tom and Huck   2.561161\n",
       "8                 Sudden Death    5.23158\n",
       "9                    GoldenEye  14.686036"
      ],
      "text/html": "<div>\n<style scoped>\n    .dataframe tbody tr th:only-of-type {\n        vertical-align: middle;\n    }\n\n    .dataframe tbody tr th {\n        vertical-align: top;\n    }\n\n    .dataframe thead th {\n        text-align: right;\n    }\n</style>\n<table border=\"1\" class=\"dataframe\">\n  <thead>\n    <tr style=\"text-align: right;\">\n      <th></th>\n      <th>original_title</th>\n      <th>popularity</th>\n    </tr>\n  </thead>\n  <tbody>\n    <tr>\n      <th>1</th>\n      <td>Jumanji</td>\n      <td>17.015539</td>\n    </tr>\n    <tr>\n      <th>2</th>\n      <td>Grumpier Old Men</td>\n      <td>11.7129</td>\n    </tr>\n    <tr>\n      <th>3</th>\n      <td>Waiting to Exhale</td>\n      <td>3.859495</td>\n    </tr>\n    <tr>\n      <th>4</th>\n      <td>Father of the Bride Part II</td>\n      <td>8.387519</td>\n    </tr>\n    <tr>\n      <th>5</th>\n      <td>Heat</td>\n      <td>17.924927</td>\n    </tr>\n    <tr>\n      <th>6</th>\n      <td>Sabrina</td>\n      <td>6.677277</td>\n    </tr>\n    <tr>\n      <th>7</th>\n      <td>Tom and Huck</td>\n      <td>2.561161</td>\n    </tr>\n    <tr>\n      <th>8</th>\n      <td>Sudden Death</td>\n      <td>5.23158</td>\n    </tr>\n    <tr>\n      <th>9</th>\n      <td>GoldenEye</td>\n      <td>14.686036</td>\n    </tr>\n  </tbody>\n</table>\n</div>"
     },
     "metadata": {},
     "execution_count": 3
    }
   ],
   "source": [
    "metadata[['original_title', 'popularity']][1:10]"
   ]
  },
  {
   "cell_type": "markdown",
   "metadata": {},
   "source": [
    "### Rating vs. Popularidad\n",
    "\n",
    "Con esta información vamos a construir un sistema que recomiende películas basados directamente en su *rating*, o **voto promedio**. Sin embargo, es cierto que hay otro atributo relevante como lo es el de su **popularidad**. Por ejemplo, si un solo usuario califica con 10 una pelicula, pero 5000 usuarios le dan en promedio un 8.3, solo en base al rating la primera película sería considerada mejor que la segunda.\n",
    "\n",
    "\n",
    "Bajo una perspectiva de *los grandes números*, la valoración o voto promedio de una película tiende a converger hacia un valor que refleje la calidad de la película a medida que el número de votos aumenta. Con poca información, o pocos votos, es más difícil estimar la calidad promedio de la película.  \n",
    "\n",
    "\n",
    "Entonces, \n",
    "\n",
    "**¿qué tipo de métrica nos sirve para evaluar apropiadamente la preferencia por una película?** \n",
    "\n",
    "Tengamos en cuenta que en base a esta métrica se tendrán mejores o peores recomendaciones!\n",
    "\n",
    "\n"
   ]
  },
  {
   "cell_type": "markdown",
   "metadata": {},
   "source": [
    "### Ejercicio 1.1\n",
    "\n",
    "Examine los datos y proponga una métrica que permita estimar la preferencia promedio por una película."
   ]
  },
  {
   "cell_type": "code",
   "execution_count": 4,
   "metadata": {},
   "outputs": [
    {
     "output_type": "execute_result",
     "data": {
      "text/plain": [
       "6"
      ]
     },
     "metadata": {},
     "execution_count": 4
    }
   ],
   "source": [
    "#cuantas peliculas hay sin ingresos\n",
    "len(metadata) - metadata['revenue'].count()"
   ]
  },
  {
   "cell_type": "code",
   "execution_count": 5,
   "metadata": {},
   "outputs": [
    {
     "output_type": "execute_result",
     "data": {
      "text/plain": [
       "adult                     object\n",
       "belongs_to_collection     object\n",
       "budget                    object\n",
       "genres                    object\n",
       "homepage                  object\n",
       "id                        object\n",
       "imdb_id                   object\n",
       "original_language         object\n",
       "original_title            object\n",
       "overview                  object\n",
       "popularity                object\n",
       "poster_path               object\n",
       "production_companies      object\n",
       "production_countries      object\n",
       "release_date              object\n",
       "revenue                  float64\n",
       "runtime                  float64\n",
       "spoken_languages          object\n",
       "status                    object\n",
       "tagline                   object\n",
       "title                     object\n",
       "video                     object\n",
       "vote_average             float64\n",
       "vote_count               float64\n",
       "dtype: object"
      ]
     },
     "metadata": {},
     "execution_count": 5
    }
   ],
   "source": [
    "#Validamos los tipos de datos que tiene el df\n",
    "metadata.dtypes"
   ]
  },
  {
   "cell_type": "code",
   "execution_count": 6,
   "metadata": {},
   "outputs": [
    {
     "output_type": "execute_result",
     "data": {
      "text/plain": [
       "                                 original_title       revenue  \\\n",
       "14551                                    Avatar  2.787965e+09   \n",
       "26555              Star Wars: The Force Awakens  2.068224e+09   \n",
       "1639                                    Titanic  1.845034e+09   \n",
       "17818                              The Avengers  1.519558e+09   \n",
       "25084                            Jurassic World  1.513529e+09   \n",
       "...                                         ...           ...   \n",
       "19730  [{'iso_639_1': 'en', 'name': 'English'}]           NaN   \n",
       "29502                          マルドゥック・スクランブル 排気           NaN   \n",
       "29503      [{'iso_639_1': 'ja', 'name': '日本語'}]           NaN   \n",
       "35586                          Avalanche Sharks           NaN   \n",
       "35587  [{'iso_639_1': 'en', 'name': 'English'}]           NaN   \n",
       "\n",
       "                  popularity  vote_average  vote_count  \n",
       "14551             185.070892           7.2     12114.0  \n",
       "26555              31.626013           7.5      7993.0  \n",
       "1639                26.88907           7.5      7770.0  \n",
       "17818              89.887648           7.4     12000.0  \n",
       "25084              32.790475           6.5      8842.0  \n",
       "...                      ...           ...         ...  \n",
       "19730                    NaN           NaN         NaN  \n",
       "29502                    NaN           NaN         NaN  \n",
       "29503                    NaN           NaN         NaN  \n",
       "35586                    NaN           NaN         NaN  \n",
       "35587  Beware Of Frost Bites           NaN         NaN  \n",
       "\n",
       "[45466 rows x 5 columns]"
      ],
      "text/html": "<div>\n<style scoped>\n    .dataframe tbody tr th:only-of-type {\n        vertical-align: middle;\n    }\n\n    .dataframe tbody tr th {\n        vertical-align: top;\n    }\n\n    .dataframe thead th {\n        text-align: right;\n    }\n</style>\n<table border=\"1\" class=\"dataframe\">\n  <thead>\n    <tr style=\"text-align: right;\">\n      <th></th>\n      <th>original_title</th>\n      <th>revenue</th>\n      <th>popularity</th>\n      <th>vote_average</th>\n      <th>vote_count</th>\n    </tr>\n  </thead>\n  <tbody>\n    <tr>\n      <th>14551</th>\n      <td>Avatar</td>\n      <td>2.787965e+09</td>\n      <td>185.070892</td>\n      <td>7.2</td>\n      <td>12114.0</td>\n    </tr>\n    <tr>\n      <th>26555</th>\n      <td>Star Wars: The Force Awakens</td>\n      <td>2.068224e+09</td>\n      <td>31.626013</td>\n      <td>7.5</td>\n      <td>7993.0</td>\n    </tr>\n    <tr>\n      <th>1639</th>\n      <td>Titanic</td>\n      <td>1.845034e+09</td>\n      <td>26.88907</td>\n      <td>7.5</td>\n      <td>7770.0</td>\n    </tr>\n    <tr>\n      <th>17818</th>\n      <td>The Avengers</td>\n      <td>1.519558e+09</td>\n      <td>89.887648</td>\n      <td>7.4</td>\n      <td>12000.0</td>\n    </tr>\n    <tr>\n      <th>25084</th>\n      <td>Jurassic World</td>\n      <td>1.513529e+09</td>\n      <td>32.790475</td>\n      <td>6.5</td>\n      <td>8842.0</td>\n    </tr>\n    <tr>\n      <th>...</th>\n      <td>...</td>\n      <td>...</td>\n      <td>...</td>\n      <td>...</td>\n      <td>...</td>\n    </tr>\n    <tr>\n      <th>19730</th>\n      <td>[{'iso_639_1': 'en', 'name': 'English'}]</td>\n      <td>NaN</td>\n      <td>NaN</td>\n      <td>NaN</td>\n      <td>NaN</td>\n    </tr>\n    <tr>\n      <th>29502</th>\n      <td>マルドゥック・スクランブル 排気</td>\n      <td>NaN</td>\n      <td>NaN</td>\n      <td>NaN</td>\n      <td>NaN</td>\n    </tr>\n    <tr>\n      <th>29503</th>\n      <td>[{'iso_639_1': 'ja', 'name': '日本語'}]</td>\n      <td>NaN</td>\n      <td>NaN</td>\n      <td>NaN</td>\n      <td>NaN</td>\n    </tr>\n    <tr>\n      <th>35586</th>\n      <td>Avalanche Sharks</td>\n      <td>NaN</td>\n      <td>NaN</td>\n      <td>NaN</td>\n      <td>NaN</td>\n    </tr>\n    <tr>\n      <th>35587</th>\n      <td>[{'iso_639_1': 'en', 'name': 'English'}]</td>\n      <td>NaN</td>\n      <td>Beware Of Frost Bites</td>\n      <td>NaN</td>\n      <td>NaN</td>\n    </tr>\n  </tbody>\n</table>\n<p>45466 rows × 5 columns</p>\n</div>"
     },
     "metadata": {},
     "execution_count": 6
    }
   ],
   "source": [
    "#La preferencia promedio debe estar basada no solo en el voto de las personas si no en sus ingresos, ya que esto da una mejor idea de que peliculas tienen mayor preferencia por el publico\n",
    "metadata[['original_title', 'revenue', 'popularity', 'vote_average', 'vote_count']].sort_values(by=['revenue'], ascending=False)"
   ]
  },
  {
   "cell_type": "code",
   "execution_count": 7,
   "metadata": {},
   "outputs": [
    {
     "output_type": "execute_result",
     "data": {
      "text/plain": [
       "                                      original_title       revenue  \\\n",
       "14551                                         Avatar  2.787965e+09   \n",
       "26555                   Star Wars: The Force Awakens  2.068224e+09   \n",
       "1639                                         Titanic  1.845034e+09   \n",
       "17818                                   The Avengers  1.519558e+09   \n",
       "28830                                      Furious 7  1.506249e+09   \n",
       "17437   Harry Potter and the Deathly Hallows: Part 2  1.342000e+09   \n",
       "26558                        Avengers: Age of Ultron  1.405404e+09   \n",
       "25084                                 Jurassic World  1.513529e+09   \n",
       "22110                                         Frozen  1.274219e+09   \n",
       "7000   The Lord of the Rings: The Return of the King  1.118889e+09   \n",
       "42222                           Beauty and the Beast  1.262886e+09   \n",
       "43255                        The Fate of the Furious  1.238765e+09   \n",
       "12481                                The Dark Knight  1.004558e+09   \n",
       "20830                                     Iron Man 3  1.215440e+09   \n",
       "18252                          The Dark Knight Rises  1.084939e+09   \n",
       "26567                     Captain America: Civil War  1.153304e+09   \n",
       "15348                                    Toy Story 3  1.066970e+09   \n",
       "36253                                       Zootopia  1.023784e+09   \n",
       "41489                   Rogue One: A Star Wars Story  1.056057e+09   \n",
       "19261                                        Skyfall  1.108561e+09   \n",
       "\n",
       "       popularity  vote_average  vote_count      Avg Pref  \n",
       "14551  185.070892           7.2     12114.0  2.007335e+10  \n",
       "26555   31.626013           7.5      7993.0  1.551168e+10  \n",
       "1639     26.88907           7.5      7770.0  1.383776e+10  \n",
       "17818   89.887648           7.4     12000.0  1.124473e+10  \n",
       "28830   27.275687           7.3      4253.0  1.099562e+10  \n",
       "17437   24.990737           7.9      6141.0  1.060180e+10  \n",
       "26558    37.37942           7.3      6908.0  1.025945e+10  \n",
       "25084   32.790475           6.5      8842.0  9.837937e+09  \n",
       "22110   24.248243           7.3      5440.0  9.301799e+09  \n",
       "7000    29.324358           8.1      8226.0  9.063001e+09  \n",
       "42222  287.253654           6.8      5530.0  8.587627e+09  \n",
       "43255   48.573287           6.8      3803.0  8.423600e+09  \n",
       "12481  123.167259           8.3     12269.0  8.337835e+09  \n",
       "20830   23.721243           6.8      8951.0  8.264992e+09  \n",
       "18252    20.58258           7.6      9263.0  8.245537e+09  \n",
       "26567  145.882135           7.1      7462.0  8.188462e+09  \n",
       "15348    16.96647           7.6      4710.0  8.108970e+09  \n",
       "36253   26.024868           7.7      4961.0  7.883138e+09  \n",
       "41489   36.567575           7.4      5111.0  7.814824e+09  \n",
       "19261   20.309585           6.9      7718.0  7.649071e+09  "
      ],
      "text/html": "<div>\n<style scoped>\n    .dataframe tbody tr th:only-of-type {\n        vertical-align: middle;\n    }\n\n    .dataframe tbody tr th {\n        vertical-align: top;\n    }\n\n    .dataframe thead th {\n        text-align: right;\n    }\n</style>\n<table border=\"1\" class=\"dataframe\">\n  <thead>\n    <tr style=\"text-align: right;\">\n      <th></th>\n      <th>original_title</th>\n      <th>revenue</th>\n      <th>popularity</th>\n      <th>vote_average</th>\n      <th>vote_count</th>\n      <th>Avg Pref</th>\n    </tr>\n  </thead>\n  <tbody>\n    <tr>\n      <th>14551</th>\n      <td>Avatar</td>\n      <td>2.787965e+09</td>\n      <td>185.070892</td>\n      <td>7.2</td>\n      <td>12114.0</td>\n      <td>2.007335e+10</td>\n    </tr>\n    <tr>\n      <th>26555</th>\n      <td>Star Wars: The Force Awakens</td>\n      <td>2.068224e+09</td>\n      <td>31.626013</td>\n      <td>7.5</td>\n      <td>7993.0</td>\n      <td>1.551168e+10</td>\n    </tr>\n    <tr>\n      <th>1639</th>\n      <td>Titanic</td>\n      <td>1.845034e+09</td>\n      <td>26.88907</td>\n      <td>7.5</td>\n      <td>7770.0</td>\n      <td>1.383776e+10</td>\n    </tr>\n    <tr>\n      <th>17818</th>\n      <td>The Avengers</td>\n      <td>1.519558e+09</td>\n      <td>89.887648</td>\n      <td>7.4</td>\n      <td>12000.0</td>\n      <td>1.124473e+10</td>\n    </tr>\n    <tr>\n      <th>28830</th>\n      <td>Furious 7</td>\n      <td>1.506249e+09</td>\n      <td>27.275687</td>\n      <td>7.3</td>\n      <td>4253.0</td>\n      <td>1.099562e+10</td>\n    </tr>\n    <tr>\n      <th>17437</th>\n      <td>Harry Potter and the Deathly Hallows: Part 2</td>\n      <td>1.342000e+09</td>\n      <td>24.990737</td>\n      <td>7.9</td>\n      <td>6141.0</td>\n      <td>1.060180e+10</td>\n    </tr>\n    <tr>\n      <th>26558</th>\n      <td>Avengers: Age of Ultron</td>\n      <td>1.405404e+09</td>\n      <td>37.37942</td>\n      <td>7.3</td>\n      <td>6908.0</td>\n      <td>1.025945e+10</td>\n    </tr>\n    <tr>\n      <th>25084</th>\n      <td>Jurassic World</td>\n      <td>1.513529e+09</td>\n      <td>32.790475</td>\n      <td>6.5</td>\n      <td>8842.0</td>\n      <td>9.837937e+09</td>\n    </tr>\n    <tr>\n      <th>22110</th>\n      <td>Frozen</td>\n      <td>1.274219e+09</td>\n      <td>24.248243</td>\n      <td>7.3</td>\n      <td>5440.0</td>\n      <td>9.301799e+09</td>\n    </tr>\n    <tr>\n      <th>7000</th>\n      <td>The Lord of the Rings: The Return of the King</td>\n      <td>1.118889e+09</td>\n      <td>29.324358</td>\n      <td>8.1</td>\n      <td>8226.0</td>\n      <td>9.063001e+09</td>\n    </tr>\n    <tr>\n      <th>42222</th>\n      <td>Beauty and the Beast</td>\n      <td>1.262886e+09</td>\n      <td>287.253654</td>\n      <td>6.8</td>\n      <td>5530.0</td>\n      <td>8.587627e+09</td>\n    </tr>\n    <tr>\n      <th>43255</th>\n      <td>The Fate of the Furious</td>\n      <td>1.238765e+09</td>\n      <td>48.573287</td>\n      <td>6.8</td>\n      <td>3803.0</td>\n      <td>8.423600e+09</td>\n    </tr>\n    <tr>\n      <th>12481</th>\n      <td>The Dark Knight</td>\n      <td>1.004558e+09</td>\n      <td>123.167259</td>\n      <td>8.3</td>\n      <td>12269.0</td>\n      <td>8.337835e+09</td>\n    </tr>\n    <tr>\n      <th>20830</th>\n      <td>Iron Man 3</td>\n      <td>1.215440e+09</td>\n      <td>23.721243</td>\n      <td>6.8</td>\n      <td>8951.0</td>\n      <td>8.264992e+09</td>\n    </tr>\n    <tr>\n      <th>18252</th>\n      <td>The Dark Knight Rises</td>\n      <td>1.084939e+09</td>\n      <td>20.58258</td>\n      <td>7.6</td>\n      <td>9263.0</td>\n      <td>8.245537e+09</td>\n    </tr>\n    <tr>\n      <th>26567</th>\n      <td>Captain America: Civil War</td>\n      <td>1.153304e+09</td>\n      <td>145.882135</td>\n      <td>7.1</td>\n      <td>7462.0</td>\n      <td>8.188462e+09</td>\n    </tr>\n    <tr>\n      <th>15348</th>\n      <td>Toy Story 3</td>\n      <td>1.066970e+09</td>\n      <td>16.96647</td>\n      <td>7.6</td>\n      <td>4710.0</td>\n      <td>8.108970e+09</td>\n    </tr>\n    <tr>\n      <th>36253</th>\n      <td>Zootopia</td>\n      <td>1.023784e+09</td>\n      <td>26.024868</td>\n      <td>7.7</td>\n      <td>4961.0</td>\n      <td>7.883138e+09</td>\n    </tr>\n    <tr>\n      <th>41489</th>\n      <td>Rogue One: A Star Wars Story</td>\n      <td>1.056057e+09</td>\n      <td>36.567575</td>\n      <td>7.4</td>\n      <td>5111.0</td>\n      <td>7.814824e+09</td>\n    </tr>\n    <tr>\n      <th>19261</th>\n      <td>Skyfall</td>\n      <td>1.108561e+09</td>\n      <td>20.309585</td>\n      <td>6.9</td>\n      <td>7718.0</td>\n      <td>7.649071e+09</td>\n    </tr>\n  </tbody>\n</table>\n</div>"
     },
     "metadata": {},
     "execution_count": 7
    }
   ],
   "source": [
    "metadata['Avg Pref'] = metadata['revenue'] * metadata['vote_average']\n",
    "metadata[['original_title', 'revenue', 'popularity', 'vote_average', 'vote_count', 'Avg Pref']].sort_values(by=['Avg Pref'], ascending=False).head(20)\n",
    "\n",
    "#Revisando 3 posibles escalas de preferencia de peliculas, la variable popularidad infla principalmente las peliculas intantiles, ademas que no se tiene una interpretacion clara de esta popularidad. por lo tanto se deja por fuera del calculo de escala de preferencia."
   ]
  },
  {
   "cell_type": "code",
   "execution_count": null,
   "metadata": {},
   "outputs": [],
   "source": []
  },
  {
   "cell_type": "markdown",
   "metadata": {},
   "source": [
    "### Ponderación entre rating y popularidad\n",
    "\n",
    "Una opción puede consistir en ponderar el rating que recibe una película por su número de votos. De esta manera se pueden prevenir situaciones donde una película con un voto de 10 obtenga una mejor calificación que una película con 1000 votos con un promedio de 9.5.  \n",
    "\n",
    "De esta manera, el voto promedio ponderado $\\mu_i$, de la $i$-ésima película lo definimos como:\n",
    "\n",
    "$$\n",
    "\\mu_i  = \\left( \\frac{v_i}{v_{max}} \\right) R_i \n",
    "$$\n",
    "\n",
    "donde $v_i$ es el número de votos para la $i$-ésima película, $v_{max}$ es el máximo número de votos que recibe la película más popular, y $R$ es el rating promedio de la pelicula.\n",
    "\n",
    "\n",
    "En la base de datos tenemos los valores de $v_i$ (vote_count) y $R$ (vote_average) para cada pelicula. Además podemos agregar un filtro para que considere las películas con un minimo número de votos $v_{min}$.\n"
   ]
  },
  {
   "cell_type": "markdown",
   "metadata": {},
   "source": [
    "Nos quedamos con las columnas necesarias para calcular el rating ponderado más el link de la pagina (en caso de que esté disponible):"
   ]
  },
  {
   "cell_type": "code",
   "execution_count": 8,
   "metadata": {},
   "outputs": [
    {
     "output_type": "execute_result",
     "data": {
      "text/plain": [
       "(45466, 5)"
      ]
     },
     "metadata": {},
     "execution_count": 8
    }
   ],
   "source": [
    "pelisR = metadata[['original_title', 'homepage', 'vote_count', 'vote_average', 'popularity']]\n",
    "pelisR.shape\n"
   ]
  },
  {
   "cell_type": "code",
   "execution_count": 9,
   "metadata": {},
   "outputs": [],
   "source": [
    "# Calificacion de peliculas basada en la ponderacion de su rating \n",
    "def rating_ponderado(x):\n",
    "    \"\"\"\n",
    "    Input:\n",
    "    x: datos de rating y votacion de las peliculas\n",
    "    m: minimo numero de votos\n",
    "    Output:\n",
    "    rating ponderado\n",
    "    \"\"\"\n",
    "    m = x['vote_average'].max()\n",
    "    v = x['vote_count']\n",
    "    R = x['vote_average']\n",
    "    return (v/(v+m) * R) "
   ]
  },
  {
   "cell_type": "markdown",
   "metadata": {},
   "source": [
    "Definimos una nueva respuesta 'score' y calculamos su valor con la funcion rating_ponderado().\n",
    "\n",
    "A continuación ordenamos las películas basados en el score y ofrecemos el top 15 de películas preferidas:"
   ]
  },
  {
   "cell_type": "code",
   "execution_count": 10,
   "metadata": {},
   "outputs": [
    {
     "output_type": "execute_result",
     "data": {
      "text/plain": [
       "                        original_title  \\\n",
       "10309      Dilwale Dulhania Le Jayenge   \n",
       "314           The Shawshank Redemption   \n",
       "834                      The Godfather   \n",
       "40251                            君の名は。   \n",
       "39085                     Planet Earth   \n",
       "12481                  The Dark Knight   \n",
       "2843                        Fight Club   \n",
       "292                       Pulp Fiction   \n",
       "522                   Schindler's List   \n",
       "23673                         Whiplash   \n",
       "5481                          千と千尋の神隠し   \n",
       "2211                   La vita è bella   \n",
       "1178            The Godfather: Part II   \n",
       "1152   One Flew Over the Cuckoo's Nest   \n",
       "1176                            Psycho   \n",
       "\n",
       "                                              homepage  vote_count  \\\n",
       "10309                                              NaN       661.0   \n",
       "314                                                NaN      8358.0   \n",
       "834                       http://www.thegodfather.com/      6024.0   \n",
       "40251  https://www.funimationfilms.com/movie/yourname/      1030.0   \n",
       "39085                                              NaN       176.0   \n",
       "12481     http://thedarkknight.warnerbros.com/dvdsite/     12269.0   \n",
       "2843        http://www.foxmovies.com/movies/fight-club      9678.0   \n",
       "292                                                NaN      8670.0   \n",
       "522                     http://www.schindlerslist.com/      4436.0   \n",
       "23673                http://sonyclassics.com/whiplash/      4376.0   \n",
       "5481            http://movies.disney.com/spirited-away      3968.0   \n",
       "2211                                               NaN      3643.0   \n",
       "1178                                               NaN      3418.0   \n",
       "1152                                               NaN      3001.0   \n",
       "1176                                               NaN      2405.0   \n",
       "\n",
       "       vote_average  popularity     score  \n",
       "10309           9.1   34.457024  8.964382  \n",
       "314             8.5   51.645403  8.489842  \n",
       "834             8.5   41.109264  8.485913  \n",
       "40251           8.5   34.461252  8.418269  \n",
       "39085           8.8    4.501137  8.326882  \n",
       "12481           8.3  123.167259  8.293240  \n",
       "2843            8.3   63.869599  8.291433  \n",
       "292             8.3  140.950236  8.290438  \n",
       "522             8.3   41.725123  8.281332  \n",
       "23673           8.3    64.29999  8.281076  \n",
       "5481            8.3   41.048867  8.279135  \n",
       "2211            8.3    39.39497  8.277279  \n",
       "1178            8.3   36.629307  8.275788  \n",
       "1152            8.3   35.529554  8.272434  \n",
       "1176            8.3   36.826309  8.265631  "
      ],
      "text/html": "<div>\n<style scoped>\n    .dataframe tbody tr th:only-of-type {\n        vertical-align: middle;\n    }\n\n    .dataframe tbody tr th {\n        vertical-align: top;\n    }\n\n    .dataframe thead th {\n        text-align: right;\n    }\n</style>\n<table border=\"1\" class=\"dataframe\">\n  <thead>\n    <tr style=\"text-align: right;\">\n      <th></th>\n      <th>original_title</th>\n      <th>homepage</th>\n      <th>vote_count</th>\n      <th>vote_average</th>\n      <th>popularity</th>\n      <th>score</th>\n    </tr>\n  </thead>\n  <tbody>\n    <tr>\n      <th>10309</th>\n      <td>Dilwale Dulhania Le Jayenge</td>\n      <td>NaN</td>\n      <td>661.0</td>\n      <td>9.1</td>\n      <td>34.457024</td>\n      <td>8.964382</td>\n    </tr>\n    <tr>\n      <th>314</th>\n      <td>The Shawshank Redemption</td>\n      <td>NaN</td>\n      <td>8358.0</td>\n      <td>8.5</td>\n      <td>51.645403</td>\n      <td>8.489842</td>\n    </tr>\n    <tr>\n      <th>834</th>\n      <td>The Godfather</td>\n      <td>http://www.thegodfather.com/</td>\n      <td>6024.0</td>\n      <td>8.5</td>\n      <td>41.109264</td>\n      <td>8.485913</td>\n    </tr>\n    <tr>\n      <th>40251</th>\n      <td>君の名は。</td>\n      <td>https://www.funimationfilms.com/movie/yourname/</td>\n      <td>1030.0</td>\n      <td>8.5</td>\n      <td>34.461252</td>\n      <td>8.418269</td>\n    </tr>\n    <tr>\n      <th>39085</th>\n      <td>Planet Earth</td>\n      <td>NaN</td>\n      <td>176.0</td>\n      <td>8.8</td>\n      <td>4.501137</td>\n      <td>8.326882</td>\n    </tr>\n    <tr>\n      <th>12481</th>\n      <td>The Dark Knight</td>\n      <td>http://thedarkknight.warnerbros.com/dvdsite/</td>\n      <td>12269.0</td>\n      <td>8.3</td>\n      <td>123.167259</td>\n      <td>8.293240</td>\n    </tr>\n    <tr>\n      <th>2843</th>\n      <td>Fight Club</td>\n      <td>http://www.foxmovies.com/movies/fight-club</td>\n      <td>9678.0</td>\n      <td>8.3</td>\n      <td>63.869599</td>\n      <td>8.291433</td>\n    </tr>\n    <tr>\n      <th>292</th>\n      <td>Pulp Fiction</td>\n      <td>NaN</td>\n      <td>8670.0</td>\n      <td>8.3</td>\n      <td>140.950236</td>\n      <td>8.290438</td>\n    </tr>\n    <tr>\n      <th>522</th>\n      <td>Schindler's List</td>\n      <td>http://www.schindlerslist.com/</td>\n      <td>4436.0</td>\n      <td>8.3</td>\n      <td>41.725123</td>\n      <td>8.281332</td>\n    </tr>\n    <tr>\n      <th>23673</th>\n      <td>Whiplash</td>\n      <td>http://sonyclassics.com/whiplash/</td>\n      <td>4376.0</td>\n      <td>8.3</td>\n      <td>64.29999</td>\n      <td>8.281076</td>\n    </tr>\n    <tr>\n      <th>5481</th>\n      <td>千と千尋の神隠し</td>\n      <td>http://movies.disney.com/spirited-away</td>\n      <td>3968.0</td>\n      <td>8.3</td>\n      <td>41.048867</td>\n      <td>8.279135</td>\n    </tr>\n    <tr>\n      <th>2211</th>\n      <td>La vita è bella</td>\n      <td>NaN</td>\n      <td>3643.0</td>\n      <td>8.3</td>\n      <td>39.39497</td>\n      <td>8.277279</td>\n    </tr>\n    <tr>\n      <th>1178</th>\n      <td>The Godfather: Part II</td>\n      <td>NaN</td>\n      <td>3418.0</td>\n      <td>8.3</td>\n      <td>36.629307</td>\n      <td>8.275788</td>\n    </tr>\n    <tr>\n      <th>1152</th>\n      <td>One Flew Over the Cuckoo's Nest</td>\n      <td>NaN</td>\n      <td>3001.0</td>\n      <td>8.3</td>\n      <td>35.529554</td>\n      <td>8.272434</td>\n    </tr>\n    <tr>\n      <th>1176</th>\n      <td>Psycho</td>\n      <td>NaN</td>\n      <td>2405.0</td>\n      <td>8.3</td>\n      <td>36.826309</td>\n      <td>8.265631</td>\n    </tr>\n  </tbody>\n</table>\n</div>"
     },
     "metadata": {},
     "execution_count": 10
    }
   ],
   "source": [
    "import warnings\n",
    "warnings.filterwarnings(\"ignore\", category=Warning)\n",
    "\n",
    "# si tiene al menos vmin votos, incluimos la pelicula\n",
    "vmin = 1\n",
    "pelisRF = pelisR.copy().loc[pelisR['vote_count'] >= vmin]\n",
    "pelisRF['score'] = rating_ponderado(pelisRF)\n",
    "\n",
    "# ordenamos las peliculas de acuerdo con el score\n",
    "pelisRF = pelisRF.sort_values('score', ascending=False)\n",
    "\n",
    "# Mostramos el top15 de las peliculas\n",
    "pelisRF[['original_title', 'homepage', 'vote_count', 'vote_average', 'popularity', 'score']].head(15)"
   ]
  },
  {
   "cell_type": "markdown",
   "metadata": {},
   "source": [
    "Examinemos el efecto de cambiar el mínimo numero de votos a considerar:"
   ]
  },
  {
   "cell_type": "code",
   "execution_count": 11,
   "metadata": {},
   "outputs": [
    {
     "output_type": "execute_result",
     "data": {
      "text/plain": [
       "                        original_title  \\\n",
       "314           The Shawshank Redemption   \n",
       "834                      The Godfather   \n",
       "40251                            君の名は。   \n",
       "12481                  The Dark Knight   \n",
       "2843                        Fight Club   \n",
       "292                       Pulp Fiction   \n",
       "522                   Schindler's List   \n",
       "23673                         Whiplash   \n",
       "5481                          千と千尋の神隠し   \n",
       "2211                   La vita è bella   \n",
       "1178            The Godfather: Part II   \n",
       "1152   One Flew Over the Cuckoo's Nest   \n",
       "1176                            Psycho   \n",
       "1184       Once Upon a Time in America   \n",
       "351                       Forrest Gump   \n",
       "\n",
       "                                              homepage  vote_count  \\\n",
       "314                                                NaN      8358.0   \n",
       "834                       http://www.thegodfather.com/      6024.0   \n",
       "40251  https://www.funimationfilms.com/movie/yourname/      1030.0   \n",
       "12481     http://thedarkknight.warnerbros.com/dvdsite/     12269.0   \n",
       "2843        http://www.foxmovies.com/movies/fight-club      9678.0   \n",
       "292                                                NaN      8670.0   \n",
       "522                     http://www.schindlerslist.com/      4436.0   \n",
       "23673                http://sonyclassics.com/whiplash/      4376.0   \n",
       "5481            http://movies.disney.com/spirited-away      3968.0   \n",
       "2211                                               NaN      3643.0   \n",
       "1178                                               NaN      3418.0   \n",
       "1152                                               NaN      3001.0   \n",
       "1176                                               NaN      2405.0   \n",
       "1184                                               NaN      1104.0   \n",
       "351                                                NaN      8147.0   \n",
       "\n",
       "       vote_average  popularity     score  \n",
       "314             8.5   51.645403  8.491364  \n",
       "834             8.5   41.109264  8.488023  \n",
       "40251           8.5   34.461252  8.430429  \n",
       "12481           8.3  123.167259  8.294254  \n",
       "2843            8.3   63.869599  8.292717  \n",
       "292             8.3  140.950236  8.291871  \n",
       "522             8.3   41.725123  8.284126  \n",
       "23673           8.3    64.29999  8.283909  \n",
       "5481            8.3   41.048867  8.282258  \n",
       "2211            8.3    39.39497  8.280679  \n",
       "1178            8.3   36.629307  8.279410  \n",
       "1152            8.3   35.529554  8.276558  \n",
       "1176            8.3   36.826309  8.270769  \n",
       "1184            8.3   32.182851  8.236584  \n",
       "351             8.2   48.307194  8.191454  "
      ],
      "text/html": "<div>\n<style scoped>\n    .dataframe tbody tr th:only-of-type {\n        vertical-align: middle;\n    }\n\n    .dataframe tbody tr th {\n        vertical-align: top;\n    }\n\n    .dataframe thead th {\n        text-align: right;\n    }\n</style>\n<table border=\"1\" class=\"dataframe\">\n  <thead>\n    <tr style=\"text-align: right;\">\n      <th></th>\n      <th>original_title</th>\n      <th>homepage</th>\n      <th>vote_count</th>\n      <th>vote_average</th>\n      <th>popularity</th>\n      <th>score</th>\n    </tr>\n  </thead>\n  <tbody>\n    <tr>\n      <th>314</th>\n      <td>The Shawshank Redemption</td>\n      <td>NaN</td>\n      <td>8358.0</td>\n      <td>8.5</td>\n      <td>51.645403</td>\n      <td>8.491364</td>\n    </tr>\n    <tr>\n      <th>834</th>\n      <td>The Godfather</td>\n      <td>http://www.thegodfather.com/</td>\n      <td>6024.0</td>\n      <td>8.5</td>\n      <td>41.109264</td>\n      <td>8.488023</td>\n    </tr>\n    <tr>\n      <th>40251</th>\n      <td>君の名は。</td>\n      <td>https://www.funimationfilms.com/movie/yourname/</td>\n      <td>1030.0</td>\n      <td>8.5</td>\n      <td>34.461252</td>\n      <td>8.430429</td>\n    </tr>\n    <tr>\n      <th>12481</th>\n      <td>The Dark Knight</td>\n      <td>http://thedarkknight.warnerbros.com/dvdsite/</td>\n      <td>12269.0</td>\n      <td>8.3</td>\n      <td>123.167259</td>\n      <td>8.294254</td>\n    </tr>\n    <tr>\n      <th>2843</th>\n      <td>Fight Club</td>\n      <td>http://www.foxmovies.com/movies/fight-club</td>\n      <td>9678.0</td>\n      <td>8.3</td>\n      <td>63.869599</td>\n      <td>8.292717</td>\n    </tr>\n    <tr>\n      <th>292</th>\n      <td>Pulp Fiction</td>\n      <td>NaN</td>\n      <td>8670.0</td>\n      <td>8.3</td>\n      <td>140.950236</td>\n      <td>8.291871</td>\n    </tr>\n    <tr>\n      <th>522</th>\n      <td>Schindler's List</td>\n      <td>http://www.schindlerslist.com/</td>\n      <td>4436.0</td>\n      <td>8.3</td>\n      <td>41.725123</td>\n      <td>8.284126</td>\n    </tr>\n    <tr>\n      <th>23673</th>\n      <td>Whiplash</td>\n      <td>http://sonyclassics.com/whiplash/</td>\n      <td>4376.0</td>\n      <td>8.3</td>\n      <td>64.29999</td>\n      <td>8.283909</td>\n    </tr>\n    <tr>\n      <th>5481</th>\n      <td>千と千尋の神隠し</td>\n      <td>http://movies.disney.com/spirited-away</td>\n      <td>3968.0</td>\n      <td>8.3</td>\n      <td>41.048867</td>\n      <td>8.282258</td>\n    </tr>\n    <tr>\n      <th>2211</th>\n      <td>La vita è bella</td>\n      <td>NaN</td>\n      <td>3643.0</td>\n      <td>8.3</td>\n      <td>39.39497</td>\n      <td>8.280679</td>\n    </tr>\n    <tr>\n      <th>1178</th>\n      <td>The Godfather: Part II</td>\n      <td>NaN</td>\n      <td>3418.0</td>\n      <td>8.3</td>\n      <td>36.629307</td>\n      <td>8.279410</td>\n    </tr>\n    <tr>\n      <th>1152</th>\n      <td>One Flew Over the Cuckoo's Nest</td>\n      <td>NaN</td>\n      <td>3001.0</td>\n      <td>8.3</td>\n      <td>35.529554</td>\n      <td>8.276558</td>\n    </tr>\n    <tr>\n      <th>1176</th>\n      <td>Psycho</td>\n      <td>NaN</td>\n      <td>2405.0</td>\n      <td>8.3</td>\n      <td>36.826309</td>\n      <td>8.270769</td>\n    </tr>\n    <tr>\n      <th>1184</th>\n      <td>Once Upon a Time in America</td>\n      <td>NaN</td>\n      <td>1104.0</td>\n      <td>8.3</td>\n      <td>32.182851</td>\n      <td>8.236584</td>\n    </tr>\n    <tr>\n      <th>351</th>\n      <td>Forrest Gump</td>\n      <td>NaN</td>\n      <td>8147.0</td>\n      <td>8.2</td>\n      <td>48.307194</td>\n      <td>8.191454</td>\n    </tr>\n  </tbody>\n</table>\n</div>"
     },
     "metadata": {},
     "execution_count": 11
    }
   ],
   "source": [
    "# si tiene al menos mil votos incluimos la pelicula\n",
    "vmin = 1000\n",
    "pelisRF = pelisR.copy().loc[pelisR['vote_count'] >= vmin]\n",
    "pelisRF['score'] = rating_ponderado(pelisRF)\n",
    "\n",
    "# ordenamos las peliculas de acuerdo con el score\n",
    "pelisRF = pelisRF.sort_values('score', ascending=False)\n",
    "\n",
    "# Mostramos el top15 de las peliculas\n",
    "pelisRF[['original_title', 'homepage', 'vote_count', 'vote_average', 'popularity', 'score']].head(15)"
   ]
  },
  {
   "cell_type": "markdown",
   "metadata": {},
   "source": [
    "Veamos en qué consiste esa pelicula en japonés:"
   ]
  },
  {
   "cell_type": "code",
   "execution_count": 12,
   "metadata": {},
   "outputs": [
    {
     "output_type": "execute_result",
     "data": {
      "text/plain": [
       "True"
      ]
     },
     "metadata": {},
     "execution_count": 12
    }
   ],
   "source": [
    "import webbrowser\n",
    "\n",
    "webbrowser.open(pelisRF['homepage'][40251]) "
   ]
  },
  {
   "cell_type": "markdown",
   "metadata": {},
   "source": [
    "### Ejercicio 1.2\n",
    "\n",
    "Examine cómo varían los resultados si tomamos directamente la variable de popularidad."
   ]
  },
  {
   "cell_type": "code",
   "execution_count": 13,
   "metadata": {},
   "outputs": [
    {
     "output_type": "execute_result",
     "data": {
      "text/plain": [
       "                                         original_title  \\\n",
       "30700                                           Minions   \n",
       "33356                                      Wonder Woman   \n",
       "42222                              Beauty and the Beast   \n",
       "43644                                       Baby Driver   \n",
       "24455                                        Big Hero 6   \n",
       "26564                                          Deadpool   \n",
       "26566                    Guardians of the Galaxy Vol. 2   \n",
       "14551                                            Avatar   \n",
       "24351                                         John Wick   \n",
       "23675                                         Gone Girl   \n",
       "24873             The Hunger Games: Mockingjay - Part 1   \n",
       "44274                    War for the Planet of the Apes   \n",
       "26567                        Captain America: Civil War   \n",
       "292                                        Pulp Fiction   \n",
       "26560  Pirates of the Caribbean: Dead Men Tell No Tales   \n",
       "12481                                   The Dark Knight   \n",
       "536                                        Blade Runner   \n",
       "17818                                      The Avengers   \n",
       "33361                                        The Circle   \n",
       "24121                                   The Maze Runner   \n",
       "\n",
       "                                                homepage  vote_count  \\\n",
       "30700                       http://www.minionsmovie.com/      4729.0   \n",
       "33356             http://www.warnerbros.com/wonder-woman      5025.0   \n",
       "42222  http://movies.disney.com/beauty-and-the-beast-...      5530.0   \n",
       "43644                                                NaN      2083.0   \n",
       "24455                http://movies.disney.com/big-hero-6      6289.0   \n",
       "26564           http://www.foxmovies.com/movies/deadpool     11444.0   \n",
       "26566  http://marvel.com/movies/movie/221/guardians_o...      4858.0   \n",
       "14551                        http://www.avatarmovie.com/     12114.0   \n",
       "24351                   http://www.johnwickthemovie.com/      5499.0   \n",
       "23675                      http://www.gonegirlmovie.com/      6023.0   \n",
       "24873                   http://www.thehungergames.movie/      5767.0   \n",
       "44274  http://www.foxmovies.com/movies/war-for-the-pl...      1675.0   \n",
       "26567           http://marvel.com/captainamericapremiere      7462.0   \n",
       "292                                                  NaN      8670.0   \n",
       "26560  http://pirates.disney.com/pirates-of-the-carib...      2814.0   \n",
       "12481       http://thedarkknight.warnerbros.com/dvdsite/     12269.0   \n",
       "536               http://www.warnerbros.com/blade-runner      3833.0   \n",
       "17818                  http://marvel.com/avengers_movie/     12000.0   \n",
       "33361                         http://wearethecircle.com/      1015.0   \n",
       "24121                     http://themazerunnermovie.com/      5540.0   \n",
       "\n",
       "       vote_average  popularity     score  \n",
       "30700           6.4  547.488298  6.388517  \n",
       "33356           7.2  294.337037  7.187841  \n",
       "42222           6.8  287.253654  6.789564  \n",
       "43644           7.2  228.032744  7.170739  \n",
       "24455           7.8  213.849907  7.789472  \n",
       "26564           7.4  187.860492  7.394508  \n",
       "26566           7.6  185.330992  7.586726  \n",
       "14551           7.2  185.070892  7.194952  \n",
       "24351           7.0  183.870374  6.989197  \n",
       "23675           7.9  154.801009  7.888867  \n",
       "24873           6.6  147.098006  6.590287  \n",
       "44274           6.7  146.161786  6.666172  \n",
       "26567           7.1  145.882135  7.091922  \n",
       "292             8.3  140.950236  8.291871  \n",
       "26560           6.6  133.827820  6.580124  \n",
       "12481           8.3  123.167259  8.294254  \n",
       "536             7.9   96.272374  7.882520  \n",
       "17818           7.4   89.887648  7.394762  \n",
       "33361           5.4   88.439243  5.355154  \n",
       "24121           7.0   76.937890  6.989276  "
      ],
      "text/html": "<div>\n<style scoped>\n    .dataframe tbody tr th:only-of-type {\n        vertical-align: middle;\n    }\n\n    .dataframe tbody tr th {\n        vertical-align: top;\n    }\n\n    .dataframe thead th {\n        text-align: right;\n    }\n</style>\n<table border=\"1\" class=\"dataframe\">\n  <thead>\n    <tr style=\"text-align: right;\">\n      <th></th>\n      <th>original_title</th>\n      <th>homepage</th>\n      <th>vote_count</th>\n      <th>vote_average</th>\n      <th>popularity</th>\n      <th>score</th>\n    </tr>\n  </thead>\n  <tbody>\n    <tr>\n      <th>30700</th>\n      <td>Minions</td>\n      <td>http://www.minionsmovie.com/</td>\n      <td>4729.0</td>\n      <td>6.4</td>\n      <td>547.488298</td>\n      <td>6.388517</td>\n    </tr>\n    <tr>\n      <th>33356</th>\n      <td>Wonder Woman</td>\n      <td>http://www.warnerbros.com/wonder-woman</td>\n      <td>5025.0</td>\n      <td>7.2</td>\n      <td>294.337037</td>\n      <td>7.187841</td>\n    </tr>\n    <tr>\n      <th>42222</th>\n      <td>Beauty and the Beast</td>\n      <td>http://movies.disney.com/beauty-and-the-beast-...</td>\n      <td>5530.0</td>\n      <td>6.8</td>\n      <td>287.253654</td>\n      <td>6.789564</td>\n    </tr>\n    <tr>\n      <th>43644</th>\n      <td>Baby Driver</td>\n      <td>NaN</td>\n      <td>2083.0</td>\n      <td>7.2</td>\n      <td>228.032744</td>\n      <td>7.170739</td>\n    </tr>\n    <tr>\n      <th>24455</th>\n      <td>Big Hero 6</td>\n      <td>http://movies.disney.com/big-hero-6</td>\n      <td>6289.0</td>\n      <td>7.8</td>\n      <td>213.849907</td>\n      <td>7.789472</td>\n    </tr>\n    <tr>\n      <th>26564</th>\n      <td>Deadpool</td>\n      <td>http://www.foxmovies.com/movies/deadpool</td>\n      <td>11444.0</td>\n      <td>7.4</td>\n      <td>187.860492</td>\n      <td>7.394508</td>\n    </tr>\n    <tr>\n      <th>26566</th>\n      <td>Guardians of the Galaxy Vol. 2</td>\n      <td>http://marvel.com/movies/movie/221/guardians_o...</td>\n      <td>4858.0</td>\n      <td>7.6</td>\n      <td>185.330992</td>\n      <td>7.586726</td>\n    </tr>\n    <tr>\n      <th>14551</th>\n      <td>Avatar</td>\n      <td>http://www.avatarmovie.com/</td>\n      <td>12114.0</td>\n      <td>7.2</td>\n      <td>185.070892</td>\n      <td>7.194952</td>\n    </tr>\n    <tr>\n      <th>24351</th>\n      <td>John Wick</td>\n      <td>http://www.johnwickthemovie.com/</td>\n      <td>5499.0</td>\n      <td>7.0</td>\n      <td>183.870374</td>\n      <td>6.989197</td>\n    </tr>\n    <tr>\n      <th>23675</th>\n      <td>Gone Girl</td>\n      <td>http://www.gonegirlmovie.com/</td>\n      <td>6023.0</td>\n      <td>7.9</td>\n      <td>154.801009</td>\n      <td>7.888867</td>\n    </tr>\n    <tr>\n      <th>24873</th>\n      <td>The Hunger Games: Mockingjay - Part 1</td>\n      <td>http://www.thehungergames.movie/</td>\n      <td>5767.0</td>\n      <td>6.6</td>\n      <td>147.098006</td>\n      <td>6.590287</td>\n    </tr>\n    <tr>\n      <th>44274</th>\n      <td>War for the Planet of the Apes</td>\n      <td>http://www.foxmovies.com/movies/war-for-the-pl...</td>\n      <td>1675.0</td>\n      <td>6.7</td>\n      <td>146.161786</td>\n      <td>6.666172</td>\n    </tr>\n    <tr>\n      <th>26567</th>\n      <td>Captain America: Civil War</td>\n      <td>http://marvel.com/captainamericapremiere</td>\n      <td>7462.0</td>\n      <td>7.1</td>\n      <td>145.882135</td>\n      <td>7.091922</td>\n    </tr>\n    <tr>\n      <th>292</th>\n      <td>Pulp Fiction</td>\n      <td>NaN</td>\n      <td>8670.0</td>\n      <td>8.3</td>\n      <td>140.950236</td>\n      <td>8.291871</td>\n    </tr>\n    <tr>\n      <th>26560</th>\n      <td>Pirates of the Caribbean: Dead Men Tell No Tales</td>\n      <td>http://pirates.disney.com/pirates-of-the-carib...</td>\n      <td>2814.0</td>\n      <td>6.6</td>\n      <td>133.827820</td>\n      <td>6.580124</td>\n    </tr>\n    <tr>\n      <th>12481</th>\n      <td>The Dark Knight</td>\n      <td>http://thedarkknight.warnerbros.com/dvdsite/</td>\n      <td>12269.0</td>\n      <td>8.3</td>\n      <td>123.167259</td>\n      <td>8.294254</td>\n    </tr>\n    <tr>\n      <th>536</th>\n      <td>Blade Runner</td>\n      <td>http://www.warnerbros.com/blade-runner</td>\n      <td>3833.0</td>\n      <td>7.9</td>\n      <td>96.272374</td>\n      <td>7.882520</td>\n    </tr>\n    <tr>\n      <th>17818</th>\n      <td>The Avengers</td>\n      <td>http://marvel.com/avengers_movie/</td>\n      <td>12000.0</td>\n      <td>7.4</td>\n      <td>89.887648</td>\n      <td>7.394762</td>\n    </tr>\n    <tr>\n      <th>33361</th>\n      <td>The Circle</td>\n      <td>http://wearethecircle.com/</td>\n      <td>1015.0</td>\n      <td>5.4</td>\n      <td>88.439243</td>\n      <td>5.355154</td>\n    </tr>\n    <tr>\n      <th>24121</th>\n      <td>The Maze Runner</td>\n      <td>http://themazerunnermovie.com/</td>\n      <td>5540.0</td>\n      <td>7.0</td>\n      <td>76.937890</td>\n      <td>6.989276</td>\n    </tr>\n  </tbody>\n</table>\n</div>"
     },
     "metadata": {},
     "execution_count": 13
    }
   ],
   "source": [
    "pelisRF['popularity'] = pelisRF['popularity'].astype(float)\n",
    "pelisRF.sort_values(by=['popularity'], ascending=False).head(20)\n",
    "\n",
    "#Como habiamos visto anteriormente, la popularidad impulsa en el top 5 las peliculas infantiles principalmente. "
   ]
  },
  {
   "cell_type": "markdown",
   "metadata": {},
   "source": [
    "### Recomendación de peliculas mas populares por genero"
   ]
  },
  {
   "cell_type": "code",
   "execution_count": 14,
   "metadata": {},
   "outputs": [
    {
     "output_type": "execute_result",
     "data": {
      "text/plain": [
       "   adult                              belongs_to_collection    budget  \\\n",
       "0  False  {'id': 10194, 'name': 'Toy Story Collection', ...  30000000   \n",
       "1  False                                                NaN  65000000   \n",
       "2  False  {'id': 119050, 'name': 'Grumpy Old Men Collect...         0   \n",
       "\n",
       "                         genres                              homepage     id  \\\n",
       "0   [Animation, Comedy, Family]  http://toystory.disney.com/toy-story    862   \n",
       "1  [Adventure, Fantasy, Family]                                   NaN   8844   \n",
       "2             [Romance, Comedy]                                   NaN  15602   \n",
       "\n",
       "     imdb_id original_language    original_title  \\\n",
       "0  tt0114709                en         Toy Story   \n",
       "1  tt0113497                en           Jumanji   \n",
       "2  tt0113228                en  Grumpier Old Men   \n",
       "\n",
       "                                            overview  ... runtime  \\\n",
       "0  Led by Woody, Andy's toys live happily in his ...  ...    81.0   \n",
       "1  When siblings Judy and Peter discover an encha...  ...   104.0   \n",
       "2  A family wedding reignites the ancient feud be...  ...   101.0   \n",
       "\n",
       "                                    spoken_languages    status  \\\n",
       "0           [{'iso_639_1': 'en', 'name': 'English'}]  Released   \n",
       "1  [{'iso_639_1': 'en', 'name': 'English'}, {'iso...  Released   \n",
       "2           [{'iso_639_1': 'en', 'name': 'English'}]  Released   \n",
       "\n",
       "                                             tagline             title  video  \\\n",
       "0                                                NaN         Toy Story  False   \n",
       "1          Roll the dice and unleash the excitement!           Jumanji  False   \n",
       "2  Still Yelling. Still Fighting. Still Ready for...  Grumpier Old Men  False   \n",
       "\n",
       "   vote_average vote_count      Avg Pref  year  \n",
       "0           7.7     5415.0  2.876366e+09  1995  \n",
       "1           6.9     2413.0  1.813301e+09  1995  \n",
       "2           6.5       92.0  0.000000e+00  1995  \n",
       "\n",
       "[3 rows x 26 columns]"
      ],
      "text/html": "<div>\n<style scoped>\n    .dataframe tbody tr th:only-of-type {\n        vertical-align: middle;\n    }\n\n    .dataframe tbody tr th {\n        vertical-align: top;\n    }\n\n    .dataframe thead th {\n        text-align: right;\n    }\n</style>\n<table border=\"1\" class=\"dataframe\">\n  <thead>\n    <tr style=\"text-align: right;\">\n      <th></th>\n      <th>adult</th>\n      <th>belongs_to_collection</th>\n      <th>budget</th>\n      <th>genres</th>\n      <th>homepage</th>\n      <th>id</th>\n      <th>imdb_id</th>\n      <th>original_language</th>\n      <th>original_title</th>\n      <th>overview</th>\n      <th>...</th>\n      <th>runtime</th>\n      <th>spoken_languages</th>\n      <th>status</th>\n      <th>tagline</th>\n      <th>title</th>\n      <th>video</th>\n      <th>vote_average</th>\n      <th>vote_count</th>\n      <th>Avg Pref</th>\n      <th>year</th>\n    </tr>\n  </thead>\n  <tbody>\n    <tr>\n      <th>0</th>\n      <td>False</td>\n      <td>{'id': 10194, 'name': 'Toy Story Collection', ...</td>\n      <td>30000000</td>\n      <td>[Animation, Comedy, Family]</td>\n      <td>http://toystory.disney.com/toy-story</td>\n      <td>862</td>\n      <td>tt0114709</td>\n      <td>en</td>\n      <td>Toy Story</td>\n      <td>Led by Woody, Andy's toys live happily in his ...</td>\n      <td>...</td>\n      <td>81.0</td>\n      <td>[{'iso_639_1': 'en', 'name': 'English'}]</td>\n      <td>Released</td>\n      <td>NaN</td>\n      <td>Toy Story</td>\n      <td>False</td>\n      <td>7.7</td>\n      <td>5415.0</td>\n      <td>2.876366e+09</td>\n      <td>1995</td>\n    </tr>\n    <tr>\n      <th>1</th>\n      <td>False</td>\n      <td>NaN</td>\n      <td>65000000</td>\n      <td>[Adventure, Fantasy, Family]</td>\n      <td>NaN</td>\n      <td>8844</td>\n      <td>tt0113497</td>\n      <td>en</td>\n      <td>Jumanji</td>\n      <td>When siblings Judy and Peter discover an encha...</td>\n      <td>...</td>\n      <td>104.0</td>\n      <td>[{'iso_639_1': 'en', 'name': 'English'}, {'iso...</td>\n      <td>Released</td>\n      <td>Roll the dice and unleash the excitement!</td>\n      <td>Jumanji</td>\n      <td>False</td>\n      <td>6.9</td>\n      <td>2413.0</td>\n      <td>1.813301e+09</td>\n      <td>1995</td>\n    </tr>\n    <tr>\n      <th>2</th>\n      <td>False</td>\n      <td>{'id': 119050, 'name': 'Grumpy Old Men Collect...</td>\n      <td>0</td>\n      <td>[Romance, Comedy]</td>\n      <td>NaN</td>\n      <td>15602</td>\n      <td>tt0113228</td>\n      <td>en</td>\n      <td>Grumpier Old Men</td>\n      <td>A family wedding reignites the ancient feud be...</td>\n      <td>...</td>\n      <td>101.0</td>\n      <td>[{'iso_639_1': 'en', 'name': 'English'}]</td>\n      <td>Released</td>\n      <td>Still Yelling. Still Fighting. Still Ready for...</td>\n      <td>Grumpier Old Men</td>\n      <td>False</td>\n      <td>6.5</td>\n      <td>92.0</td>\n      <td>0.000000e+00</td>\n      <td>1995</td>\n    </tr>\n  </tbody>\n</table>\n<p>3 rows × 26 columns</p>\n</div>"
     },
     "metadata": {},
     "execution_count": 14
    }
   ],
   "source": [
    "import numpy as np\n",
    "from ast import literal_eval\n",
    "\n",
    "# trabajamos la informacion por generos\n",
    "metadata['genres'] = metadata['genres'].fillna('[]').apply(literal_eval).apply(lambda x: [i['name'] for i in x] if isinstance(x, list) else [])\n",
    "\n",
    "# añadimos la variable del año\n",
    "metadata['year'] = pd.to_datetime(metadata['release_date'], errors='coerce').apply(lambda x: str(x).split('-')[0] if x != np.nan else np.nan)\n",
    "\n",
    "metadata.head(3)"
   ]
  },
  {
   "cell_type": "markdown",
   "metadata": {},
   "source": [
    "Primero nos quedamos con todos los generos:"
   ]
  },
  {
   "cell_type": "code",
   "execution_count": 15,
   "metadata": {},
   "outputs": [
    {
     "output_type": "execute_result",
     "data": {
      "text/plain": [
       "   adult                              belongs_to_collection    budget  \\\n",
       "0  False  {'id': 10194, 'name': 'Toy Story Collection', ...  30000000   \n",
       "0  False  {'id': 10194, 'name': 'Toy Story Collection', ...  30000000   \n",
       "0  False  {'id': 10194, 'name': 'Toy Story Collection', ...  30000000   \n",
       "1  False                                                NaN  65000000   \n",
       "1  False                                                NaN  65000000   \n",
       "1  False                                                NaN  65000000   \n",
       "\n",
       "                               homepage    id    imdb_id original_language  \\\n",
       "0  http://toystory.disney.com/toy-story   862  tt0114709                en   \n",
       "0  http://toystory.disney.com/toy-story   862  tt0114709                en   \n",
       "0  http://toystory.disney.com/toy-story   862  tt0114709                en   \n",
       "1                                   NaN  8844  tt0113497                en   \n",
       "1                                   NaN  8844  tt0113497                en   \n",
       "1                                   NaN  8844  tt0113497                en   \n",
       "\n",
       "  original_title                                           overview  \\\n",
       "0      Toy Story  Led by Woody, Andy's toys live happily in his ...   \n",
       "0      Toy Story  Led by Woody, Andy's toys live happily in his ...   \n",
       "0      Toy Story  Led by Woody, Andy's toys live happily in his ...   \n",
       "1        Jumanji  When siblings Judy and Peter discover an encha...   \n",
       "1        Jumanji  When siblings Judy and Peter discover an encha...   \n",
       "1        Jumanji  When siblings Judy and Peter discover an encha...   \n",
       "\n",
       "  popularity  ...                                   spoken_languages  \\\n",
       "0  21.946943  ...           [{'iso_639_1': 'en', 'name': 'English'}]   \n",
       "0  21.946943  ...           [{'iso_639_1': 'en', 'name': 'English'}]   \n",
       "0  21.946943  ...           [{'iso_639_1': 'en', 'name': 'English'}]   \n",
       "1  17.015539  ...  [{'iso_639_1': 'en', 'name': 'English'}, {'iso...   \n",
       "1  17.015539  ...  [{'iso_639_1': 'en', 'name': 'English'}, {'iso...   \n",
       "1  17.015539  ...  [{'iso_639_1': 'en', 'name': 'English'}, {'iso...   \n",
       "\n",
       "     status                                    tagline      title  video  \\\n",
       "0  Released                                        NaN  Toy Story  False   \n",
       "0  Released                                        NaN  Toy Story  False   \n",
       "0  Released                                        NaN  Toy Story  False   \n",
       "1  Released  Roll the dice and unleash the excitement!    Jumanji  False   \n",
       "1  Released  Roll the dice and unleash the excitement!    Jumanji  False   \n",
       "1  Released  Roll the dice and unleash the excitement!    Jumanji  False   \n",
       "\n",
       "   vote_average vote_count      Avg Pref  year      genre  \n",
       "0           7.7     5415.0  2.876366e+09  1995  Animation  \n",
       "0           7.7     5415.0  2.876366e+09  1995     Comedy  \n",
       "0           7.7     5415.0  2.876366e+09  1995     Family  \n",
       "1           6.9     2413.0  1.813301e+09  1995  Adventure  \n",
       "1           6.9     2413.0  1.813301e+09  1995    Fantasy  \n",
       "1           6.9     2413.0  1.813301e+09  1995     Family  \n",
       "\n",
       "[6 rows x 26 columns]"
      ],
      "text/html": "<div>\n<style scoped>\n    .dataframe tbody tr th:only-of-type {\n        vertical-align: middle;\n    }\n\n    .dataframe tbody tr th {\n        vertical-align: top;\n    }\n\n    .dataframe thead th {\n        text-align: right;\n    }\n</style>\n<table border=\"1\" class=\"dataframe\">\n  <thead>\n    <tr style=\"text-align: right;\">\n      <th></th>\n      <th>adult</th>\n      <th>belongs_to_collection</th>\n      <th>budget</th>\n      <th>homepage</th>\n      <th>id</th>\n      <th>imdb_id</th>\n      <th>original_language</th>\n      <th>original_title</th>\n      <th>overview</th>\n      <th>popularity</th>\n      <th>...</th>\n      <th>spoken_languages</th>\n      <th>status</th>\n      <th>tagline</th>\n      <th>title</th>\n      <th>video</th>\n      <th>vote_average</th>\n      <th>vote_count</th>\n      <th>Avg Pref</th>\n      <th>year</th>\n      <th>genre</th>\n    </tr>\n  </thead>\n  <tbody>\n    <tr>\n      <th>0</th>\n      <td>False</td>\n      <td>{'id': 10194, 'name': 'Toy Story Collection', ...</td>\n      <td>30000000</td>\n      <td>http://toystory.disney.com/toy-story</td>\n      <td>862</td>\n      <td>tt0114709</td>\n      <td>en</td>\n      <td>Toy Story</td>\n      <td>Led by Woody, Andy's toys live happily in his ...</td>\n      <td>21.946943</td>\n      <td>...</td>\n      <td>[{'iso_639_1': 'en', 'name': 'English'}]</td>\n      <td>Released</td>\n      <td>NaN</td>\n      <td>Toy Story</td>\n      <td>False</td>\n      <td>7.7</td>\n      <td>5415.0</td>\n      <td>2.876366e+09</td>\n      <td>1995</td>\n      <td>Animation</td>\n    </tr>\n    <tr>\n      <th>0</th>\n      <td>False</td>\n      <td>{'id': 10194, 'name': 'Toy Story Collection', ...</td>\n      <td>30000000</td>\n      <td>http://toystory.disney.com/toy-story</td>\n      <td>862</td>\n      <td>tt0114709</td>\n      <td>en</td>\n      <td>Toy Story</td>\n      <td>Led by Woody, Andy's toys live happily in his ...</td>\n      <td>21.946943</td>\n      <td>...</td>\n      <td>[{'iso_639_1': 'en', 'name': 'English'}]</td>\n      <td>Released</td>\n      <td>NaN</td>\n      <td>Toy Story</td>\n      <td>False</td>\n      <td>7.7</td>\n      <td>5415.0</td>\n      <td>2.876366e+09</td>\n      <td>1995</td>\n      <td>Comedy</td>\n    </tr>\n    <tr>\n      <th>0</th>\n      <td>False</td>\n      <td>{'id': 10194, 'name': 'Toy Story Collection', ...</td>\n      <td>30000000</td>\n      <td>http://toystory.disney.com/toy-story</td>\n      <td>862</td>\n      <td>tt0114709</td>\n      <td>en</td>\n      <td>Toy Story</td>\n      <td>Led by Woody, Andy's toys live happily in his ...</td>\n      <td>21.946943</td>\n      <td>...</td>\n      <td>[{'iso_639_1': 'en', 'name': 'English'}]</td>\n      <td>Released</td>\n      <td>NaN</td>\n      <td>Toy Story</td>\n      <td>False</td>\n      <td>7.7</td>\n      <td>5415.0</td>\n      <td>2.876366e+09</td>\n      <td>1995</td>\n      <td>Family</td>\n    </tr>\n    <tr>\n      <th>1</th>\n      <td>False</td>\n      <td>NaN</td>\n      <td>65000000</td>\n      <td>NaN</td>\n      <td>8844</td>\n      <td>tt0113497</td>\n      <td>en</td>\n      <td>Jumanji</td>\n      <td>When siblings Judy and Peter discover an encha...</td>\n      <td>17.015539</td>\n      <td>...</td>\n      <td>[{'iso_639_1': 'en', 'name': 'English'}, {'iso...</td>\n      <td>Released</td>\n      <td>Roll the dice and unleash the excitement!</td>\n      <td>Jumanji</td>\n      <td>False</td>\n      <td>6.9</td>\n      <td>2413.0</td>\n      <td>1.813301e+09</td>\n      <td>1995</td>\n      <td>Adventure</td>\n    </tr>\n    <tr>\n      <th>1</th>\n      <td>False</td>\n      <td>NaN</td>\n      <td>65000000</td>\n      <td>NaN</td>\n      <td>8844</td>\n      <td>tt0113497</td>\n      <td>en</td>\n      <td>Jumanji</td>\n      <td>When siblings Judy and Peter discover an encha...</td>\n      <td>17.015539</td>\n      <td>...</td>\n      <td>[{'iso_639_1': 'en', 'name': 'English'}, {'iso...</td>\n      <td>Released</td>\n      <td>Roll the dice and unleash the excitement!</td>\n      <td>Jumanji</td>\n      <td>False</td>\n      <td>6.9</td>\n      <td>2413.0</td>\n      <td>1.813301e+09</td>\n      <td>1995</td>\n      <td>Fantasy</td>\n    </tr>\n    <tr>\n      <th>1</th>\n      <td>False</td>\n      <td>NaN</td>\n      <td>65000000</td>\n      <td>NaN</td>\n      <td>8844</td>\n      <td>tt0113497</td>\n      <td>en</td>\n      <td>Jumanji</td>\n      <td>When siblings Judy and Peter discover an encha...</td>\n      <td>17.015539</td>\n      <td>...</td>\n      <td>[{'iso_639_1': 'en', 'name': 'English'}, {'iso...</td>\n      <td>Released</td>\n      <td>Roll the dice and unleash the excitement!</td>\n      <td>Jumanji</td>\n      <td>False</td>\n      <td>6.9</td>\n      <td>2413.0</td>\n      <td>1.813301e+09</td>\n      <td>1995</td>\n      <td>Family</td>\n    </tr>\n  </tbody>\n</table>\n<p>6 rows × 26 columns</p>\n</div>"
     },
     "metadata": {},
     "execution_count": 15
    }
   ],
   "source": [
    "generos = metadata.apply(lambda x: pd.Series(x['genres']),axis=1).stack().reset_index(level=1, drop=True)\n",
    "generos.name = 'genre'\n",
    "gen_md = metadata.drop('genres', axis=1).join(generos)\n",
    "\n",
    "gen_md.head(6)"
   ]
  },
  {
   "cell_type": "markdown",
   "metadata": {},
   "source": [
    "Construimos una funcion para un género particular y que tome en cuenta peliculas con un número vmin de votos:"
   ]
  },
  {
   "cell_type": "code",
   "execution_count": 16,
   "metadata": {},
   "outputs": [],
   "source": [
    "def rec_gen(genero, vmin):\n",
    "    df = gen_md[gen_md['genre'] == genero]\n",
    "    v = df[df['vote_count'].notnull()]['vote_count'].astype('int')\n",
    "    R = df[df['vote_average'].notnull()]['vote_average'].astype('int')\n",
    "    m = df['vote_average'].max()\n",
    "    \n",
    "    pelisG = df[(df['vote_count'] >= vmin) & (df['vote_count'].notnull()) & (df['vote_average'].notnull())][['title', 'year', 'vote_count', 'vote_average', 'popularity', 'overview', 'homepage']]\n",
    "    pelisG['vote_count'] = pelisG['vote_count'].astype('int')\n",
    "    pelisG['vote_average'] = pelisG['vote_average'].astype('int')\n",
    "    \n",
    "    pelisG['wr'] = v/m * R\n",
    "    pelisG = pelisG.sort_values('wr', ascending=False).head(250)\n",
    "    \n",
    "    return pelisG"
   ]
  },
  {
   "cell_type": "markdown",
   "metadata": {},
   "source": [
    "Veamos el Top-15 de recomendaciones en Ciencia Ficción:"
   ]
  },
  {
   "cell_type": "code",
   "execution_count": 17,
   "metadata": {},
   "outputs": [
    {
     "output_type": "execute_result",
     "data": {
      "text/plain": [
       "                              title  year  vote_count  vote_average  \\\n",
       "15480                     Inception  2010       14075             8   \n",
       "22879                  Interstellar  2014       11187             8   \n",
       "14551                        Avatar  2009       12114             7   \n",
       "17818                  The Avengers  2012       12000             7   \n",
       "23753       Guardians of the Galaxy  2014       10014             7   \n",
       "26553            Mad Max: Fury Road  2015        9629             7   \n",
       "2458                     The Matrix  1999        9079             7   \n",
       "12588                      Iron Man  2008        8951             7   \n",
       "18244              The Hunger Games  2012        9634             6   \n",
       "26555  Star Wars: The Force Awakens  2015        7993             7   \n",
       "256                       Star Wars  1977        6778             8   \n",
       "20830                    Iron Man 3  2013        8951             6   \n",
       "25084                Jurassic World  2015        8842             6   \n",
       "26567    Captain America: Civil War  2016        7462             7   \n",
       "30051                   The Martian  2015        7442             7   \n",
       "\n",
       "       popularity                                           overview  \\\n",
       "15480   29.108149  Cobb, a skilled thief who commits corporate es...   \n",
       "22879   32.213481  Interstellar chronicles the adventures of a gr...   \n",
       "14551  185.070892  In the 22nd century, a paraplegic Marine is di...   \n",
       "17818   89.887648  When an unexpected enemy emerges and threatens...   \n",
       "23753   53.291601  Light years from Earth, 26 years after being a...   \n",
       "26553    29.36178  An apocalyptic story set in the furthest reach...   \n",
       "2458    33.366332  Set in the 22nd century, The Matrix tells the ...   \n",
       "12588   22.073099  After being held captive in an Afghan cave, bi...   \n",
       "18244   20.031667  Every year in the ruins of what was once North...   \n",
       "26555   31.626013  Thirty years after defeating the Galactic Empi...   \n",
       "256     42.149697  Princess Leia is captured and held hostage by ...   \n",
       "20830   23.721243  When Tony Stark's world is torn apart by a for...   \n",
       "25084   32.790475  Twenty-two years after the events of Jurassic ...   \n",
       "26567  145.882135  Following the events of Age of Ultron, the col...   \n",
       "30051    25.62993  During a manned mission to Mars, Astronaut Mar...   \n",
       "\n",
       "                                                homepage       wr  \n",
       "15480              http://inceptionmovie.warnerbros.com/  11260.0  \n",
       "22879                  http://www.interstellarmovie.net/   8949.6  \n",
       "14551                        http://www.avatarmovie.com/   8479.8  \n",
       "17818                  http://marvel.com/avengers_movie/   8400.0  \n",
       "23753                        http://marvel.com/guardians   7009.8  \n",
       "26553                        http://www.madmaxmovie.com/   6740.3  \n",
       "2458                    http://www.warnerbros.com/matrix   6355.3  \n",
       "12588                       http://www.ironmanmovie.com/   6265.7  \n",
       "18244                   http://www.thehungergames.movie/   5780.4  \n",
       "26555  http://www.starwars.com/films/star-wars-episod...   5595.1  \n",
       "256    http://www.starwars.com/films/star-wars-episod...   5422.4  \n",
       "20830                         http://marvel.com/ironman3   5370.6  \n",
       "25084                      http://www.jurassicworld.com/   5305.2  \n",
       "26567           http://marvel.com/captainamericapremiere   5223.4  \n",
       "30051        http://www.foxmovies.com/movies/the-martian   5209.4  "
      ],
      "text/html": "<div>\n<style scoped>\n    .dataframe tbody tr th:only-of-type {\n        vertical-align: middle;\n    }\n\n    .dataframe tbody tr th {\n        vertical-align: top;\n    }\n\n    .dataframe thead th {\n        text-align: right;\n    }\n</style>\n<table border=\"1\" class=\"dataframe\">\n  <thead>\n    <tr style=\"text-align: right;\">\n      <th></th>\n      <th>title</th>\n      <th>year</th>\n      <th>vote_count</th>\n      <th>vote_average</th>\n      <th>popularity</th>\n      <th>overview</th>\n      <th>homepage</th>\n      <th>wr</th>\n    </tr>\n  </thead>\n  <tbody>\n    <tr>\n      <th>15480</th>\n      <td>Inception</td>\n      <td>2010</td>\n      <td>14075</td>\n      <td>8</td>\n      <td>29.108149</td>\n      <td>Cobb, a skilled thief who commits corporate es...</td>\n      <td>http://inceptionmovie.warnerbros.com/</td>\n      <td>11260.0</td>\n    </tr>\n    <tr>\n      <th>22879</th>\n      <td>Interstellar</td>\n      <td>2014</td>\n      <td>11187</td>\n      <td>8</td>\n      <td>32.213481</td>\n      <td>Interstellar chronicles the adventures of a gr...</td>\n      <td>http://www.interstellarmovie.net/</td>\n      <td>8949.6</td>\n    </tr>\n    <tr>\n      <th>14551</th>\n      <td>Avatar</td>\n      <td>2009</td>\n      <td>12114</td>\n      <td>7</td>\n      <td>185.070892</td>\n      <td>In the 22nd century, a paraplegic Marine is di...</td>\n      <td>http://www.avatarmovie.com/</td>\n      <td>8479.8</td>\n    </tr>\n    <tr>\n      <th>17818</th>\n      <td>The Avengers</td>\n      <td>2012</td>\n      <td>12000</td>\n      <td>7</td>\n      <td>89.887648</td>\n      <td>When an unexpected enemy emerges and threatens...</td>\n      <td>http://marvel.com/avengers_movie/</td>\n      <td>8400.0</td>\n    </tr>\n    <tr>\n      <th>23753</th>\n      <td>Guardians of the Galaxy</td>\n      <td>2014</td>\n      <td>10014</td>\n      <td>7</td>\n      <td>53.291601</td>\n      <td>Light years from Earth, 26 years after being a...</td>\n      <td>http://marvel.com/guardians</td>\n      <td>7009.8</td>\n    </tr>\n    <tr>\n      <th>26553</th>\n      <td>Mad Max: Fury Road</td>\n      <td>2015</td>\n      <td>9629</td>\n      <td>7</td>\n      <td>29.36178</td>\n      <td>An apocalyptic story set in the furthest reach...</td>\n      <td>http://www.madmaxmovie.com/</td>\n      <td>6740.3</td>\n    </tr>\n    <tr>\n      <th>2458</th>\n      <td>The Matrix</td>\n      <td>1999</td>\n      <td>9079</td>\n      <td>7</td>\n      <td>33.366332</td>\n      <td>Set in the 22nd century, The Matrix tells the ...</td>\n      <td>http://www.warnerbros.com/matrix</td>\n      <td>6355.3</td>\n    </tr>\n    <tr>\n      <th>12588</th>\n      <td>Iron Man</td>\n      <td>2008</td>\n      <td>8951</td>\n      <td>7</td>\n      <td>22.073099</td>\n      <td>After being held captive in an Afghan cave, bi...</td>\n      <td>http://www.ironmanmovie.com/</td>\n      <td>6265.7</td>\n    </tr>\n    <tr>\n      <th>18244</th>\n      <td>The Hunger Games</td>\n      <td>2012</td>\n      <td>9634</td>\n      <td>6</td>\n      <td>20.031667</td>\n      <td>Every year in the ruins of what was once North...</td>\n      <td>http://www.thehungergames.movie/</td>\n      <td>5780.4</td>\n    </tr>\n    <tr>\n      <th>26555</th>\n      <td>Star Wars: The Force Awakens</td>\n      <td>2015</td>\n      <td>7993</td>\n      <td>7</td>\n      <td>31.626013</td>\n      <td>Thirty years after defeating the Galactic Empi...</td>\n      <td>http://www.starwars.com/films/star-wars-episod...</td>\n      <td>5595.1</td>\n    </tr>\n    <tr>\n      <th>256</th>\n      <td>Star Wars</td>\n      <td>1977</td>\n      <td>6778</td>\n      <td>8</td>\n      <td>42.149697</td>\n      <td>Princess Leia is captured and held hostage by ...</td>\n      <td>http://www.starwars.com/films/star-wars-episod...</td>\n      <td>5422.4</td>\n    </tr>\n    <tr>\n      <th>20830</th>\n      <td>Iron Man 3</td>\n      <td>2013</td>\n      <td>8951</td>\n      <td>6</td>\n      <td>23.721243</td>\n      <td>When Tony Stark's world is torn apart by a for...</td>\n      <td>http://marvel.com/ironman3</td>\n      <td>5370.6</td>\n    </tr>\n    <tr>\n      <th>25084</th>\n      <td>Jurassic World</td>\n      <td>2015</td>\n      <td>8842</td>\n      <td>6</td>\n      <td>32.790475</td>\n      <td>Twenty-two years after the events of Jurassic ...</td>\n      <td>http://www.jurassicworld.com/</td>\n      <td>5305.2</td>\n    </tr>\n    <tr>\n      <th>26567</th>\n      <td>Captain America: Civil War</td>\n      <td>2016</td>\n      <td>7462</td>\n      <td>7</td>\n      <td>145.882135</td>\n      <td>Following the events of Age of Ultron, the col...</td>\n      <td>http://marvel.com/captainamericapremiere</td>\n      <td>5223.4</td>\n    </tr>\n    <tr>\n      <th>30051</th>\n      <td>The Martian</td>\n      <td>2015</td>\n      <td>7442</td>\n      <td>7</td>\n      <td>25.62993</td>\n      <td>During a manned mission to Mars, Astronaut Mar...</td>\n      <td>http://www.foxmovies.com/movies/the-martian</td>\n      <td>5209.4</td>\n    </tr>\n  </tbody>\n</table>\n</div>"
     },
     "metadata": {},
     "execution_count": 17
    }
   ],
   "source": [
    "k = 15\n",
    "scifi = rec_gen('Science Fiction', 1000)\n",
    "scifi.head(15)"
   ]
  },
  {
   "cell_type": "markdown",
   "metadata": {},
   "source": [
    "Inception e Interstellar aparecen en las dos primeras posiciones. Personalmente me gusta más Interstellar (si quieres ver un agujero negro, esta película es lo mejor que podrás conseguir), pero reconozco que Inception tiene mucho nivel. Podemos seguir refinando este tipo de recomendaciones prestando atención a los distintos atributos que tenemos disponibles sobre las películas. \n"
   ]
  },
  {
   "cell_type": "markdown",
   "metadata": {},
   "source": [
    "### Ejercicio 1.3\n",
    "\n",
    "Elija el género de su interés y aplique la métrica propuesta en el Ejercicio 1.1"
   ]
  },
  {
   "cell_type": "code",
   "execution_count": 26,
   "metadata": {},
   "outputs": [],
   "source": [
    "def rec_gen_custom(genero, vmin):\n",
    "    df = gen_md[gen_md['genre'] == genero]\n",
    "    \n",
    "    pelisG = df[(df['vote_count'] >= vmin) & (df['vote_count'].notnull()) & (df['vote_average'].notnull())][['title', 'year', 'vote_count', 'vote_average', 'popularity', 'overview', 'homepage','revenue']]\n",
    "    pelisG['vote_count'] = pelisG['vote_count'].astype('int')\n",
    "    pelisG['vote_average'] = pelisG['vote_average'].astype('int')\n",
    "    \n",
    "    pelisG['my_metric'] = pelisG['revenue']*pelisG['vote_average']\n",
    "    pelisG = pelisG.sort_values('my_metric', ascending=False).head(250)\n",
    "    \n",
    "    return pelisG"
   ]
  },
  {
   "cell_type": "code",
   "execution_count": 41,
   "metadata": {},
   "outputs": [
    {
     "output_type": "execute_result",
     "data": {
      "text/plain": [
       "                                title  year  vote_count  vote_average  \\\n",
       "22110                          Frozen  2013        5440             7   \n",
       "15348                     Toy Story 3  2010        4710             7   \n",
       "36253                        Zootopia  2016        4961             7   \n",
       "30700                         Minions  2015        4729             6   \n",
       "21161                 Despicable Me 2  2013        4729             7   \n",
       "6232                     Finding Nemo  2003        6292             7   \n",
       "359                     The Lion King  1994        5520             8   \n",
       "38176                    Finding Dory  2016        4333             6   \n",
       "44009                 Despicable Me 3  2017        2002             6   \n",
       "30315                      Inside Out  2015        6737             7   \n",
       "7717                          Shrek 2  2004        3082             6   \n",
       "13848  Ice Age: Dawn of the Dinosaurs  2009        2330             6   \n",
       "19139      Ice Age: Continental Drift  2012        2731             6   \n",
       "21101             Monsters University  2013        3622             7   \n",
       "13724                              Up  2009        7048             7   \n",
       "\n",
       "       popularity                                           overview  \\\n",
       "22110   24.248243  Young princess Anna of Arendelle dreams about ...   \n",
       "15348    16.96647  Woody, Buzz, and the rest of Andy's toys haven...   \n",
       "36253   26.024868  Determined to prove herself, Officer Judy Hopp...   \n",
       "30700  547.488298  Minions Stuart, Kevin and Bob are recruited by...   \n",
       "21161    24.82355  Gru is recruited by the Anti-Villain League to...   \n",
       "6232    25.497794  Nemo, an adventurous young clownfish, is unexp...   \n",
       "359     21.605761  A young lion cub named Simba can't wait to be ...   \n",
       "38176   14.477677  Dory is reunited with her friends Nemo and Mar...   \n",
       "44009   36.631519  Gru and his wife Lucy must stop former '80s ch...   \n",
       "30315   23.985587  Growing up can be a bumpy road, and it's no ex...   \n",
       "7717     16.22986  Shrek, Fiona and Donkey set off to Far, Far Aw...   \n",
       "13848   12.980624  Times are changing for Manny the moody mammoth...   \n",
       "19139    13.26958  Manny, Diego, and Sid embark upon another adve...   \n",
       "21101   16.267502  A look at the relationship between Mike and Su...   \n",
       "13724   19.330884  Carl Fredricksen spent his entire life dreamin...   \n",
       "\n",
       "                                                homepage       revenue  \\\n",
       "22110                    http://movies.disney.com/frozen  1.274219e+09   \n",
       "15348                     http://disney.go.com/toystory/  1.066970e+09   \n",
       "36253                  http://movies.disney.com/zootopia  1.023784e+09   \n",
       "30700                       http://www.minionsmovie.com/  1.156731e+09   \n",
       "21161                       http://www.despicableme.com/  9.707619e+08   \n",
       "6232               http://movies.disney.com/finding-nemo  9.403355e+08   \n",
       "359               http://movies.disney.com/the-lion-king  7.882418e+08   \n",
       "38176              http://movies.disney.com/finding-dory  1.028571e+09   \n",
       "44009                           http://www.despicable.me  1.020063e+09   \n",
       "30315                http://movies.disney.com/inside-out  8.576112e+08   \n",
       "7717                              http://www.shrek2.com/  9.198388e+08   \n",
       "13848  http://www.iceagemovies.com/films/ice-age-dawn...  8.866868e+08   \n",
       "19139  http://www.iceagemovies.com/films/ice-age-cont...  8.772448e+08   \n",
       "21101                                                NaN  7.435596e+08   \n",
       "13724            http://disney.go.com/disneypictures/up/  7.350991e+08   \n",
       "\n",
       "          my_metric  \n",
       "22110  8.919533e+09  \n",
       "15348  7.468788e+09  \n",
       "36253  7.166489e+09  \n",
       "30700  6.940386e+09  \n",
       "21161  6.795333e+09  \n",
       "6232   6.582349e+09  \n",
       "359    6.305934e+09  \n",
       "38176  6.171425e+09  \n",
       "44009  6.120380e+09  \n",
       "30315  6.003278e+09  \n",
       "7717   5.519033e+09  \n",
       "13848  5.320121e+09  \n",
       "19139  5.263469e+09  \n",
       "21101  5.204917e+09  \n",
       "13724  5.145694e+09  "
      ],
      "text/html": "<div>\n<style scoped>\n    .dataframe tbody tr th:only-of-type {\n        vertical-align: middle;\n    }\n\n    .dataframe tbody tr th {\n        vertical-align: top;\n    }\n\n    .dataframe thead th {\n        text-align: right;\n    }\n</style>\n<table border=\"1\" class=\"dataframe\">\n  <thead>\n    <tr style=\"text-align: right;\">\n      <th></th>\n      <th>title</th>\n      <th>year</th>\n      <th>vote_count</th>\n      <th>vote_average</th>\n      <th>popularity</th>\n      <th>overview</th>\n      <th>homepage</th>\n      <th>revenue</th>\n      <th>my_metric</th>\n    </tr>\n  </thead>\n  <tbody>\n    <tr>\n      <th>22110</th>\n      <td>Frozen</td>\n      <td>2013</td>\n      <td>5440</td>\n      <td>7</td>\n      <td>24.248243</td>\n      <td>Young princess Anna of Arendelle dreams about ...</td>\n      <td>http://movies.disney.com/frozen</td>\n      <td>1.274219e+09</td>\n      <td>8.919533e+09</td>\n    </tr>\n    <tr>\n      <th>15348</th>\n      <td>Toy Story 3</td>\n      <td>2010</td>\n      <td>4710</td>\n      <td>7</td>\n      <td>16.96647</td>\n      <td>Woody, Buzz, and the rest of Andy's toys haven...</td>\n      <td>http://disney.go.com/toystory/</td>\n      <td>1.066970e+09</td>\n      <td>7.468788e+09</td>\n    </tr>\n    <tr>\n      <th>36253</th>\n      <td>Zootopia</td>\n      <td>2016</td>\n      <td>4961</td>\n      <td>7</td>\n      <td>26.024868</td>\n      <td>Determined to prove herself, Officer Judy Hopp...</td>\n      <td>http://movies.disney.com/zootopia</td>\n      <td>1.023784e+09</td>\n      <td>7.166489e+09</td>\n    </tr>\n    <tr>\n      <th>30700</th>\n      <td>Minions</td>\n      <td>2015</td>\n      <td>4729</td>\n      <td>6</td>\n      <td>547.488298</td>\n      <td>Minions Stuart, Kevin and Bob are recruited by...</td>\n      <td>http://www.minionsmovie.com/</td>\n      <td>1.156731e+09</td>\n      <td>6.940386e+09</td>\n    </tr>\n    <tr>\n      <th>21161</th>\n      <td>Despicable Me 2</td>\n      <td>2013</td>\n      <td>4729</td>\n      <td>7</td>\n      <td>24.82355</td>\n      <td>Gru is recruited by the Anti-Villain League to...</td>\n      <td>http://www.despicableme.com/</td>\n      <td>9.707619e+08</td>\n      <td>6.795333e+09</td>\n    </tr>\n    <tr>\n      <th>6232</th>\n      <td>Finding Nemo</td>\n      <td>2003</td>\n      <td>6292</td>\n      <td>7</td>\n      <td>25.497794</td>\n      <td>Nemo, an adventurous young clownfish, is unexp...</td>\n      <td>http://movies.disney.com/finding-nemo</td>\n      <td>9.403355e+08</td>\n      <td>6.582349e+09</td>\n    </tr>\n    <tr>\n      <th>359</th>\n      <td>The Lion King</td>\n      <td>1994</td>\n      <td>5520</td>\n      <td>8</td>\n      <td>21.605761</td>\n      <td>A young lion cub named Simba can't wait to be ...</td>\n      <td>http://movies.disney.com/the-lion-king</td>\n      <td>7.882418e+08</td>\n      <td>6.305934e+09</td>\n    </tr>\n    <tr>\n      <th>38176</th>\n      <td>Finding Dory</td>\n      <td>2016</td>\n      <td>4333</td>\n      <td>6</td>\n      <td>14.477677</td>\n      <td>Dory is reunited with her friends Nemo and Mar...</td>\n      <td>http://movies.disney.com/finding-dory</td>\n      <td>1.028571e+09</td>\n      <td>6.171425e+09</td>\n    </tr>\n    <tr>\n      <th>44009</th>\n      <td>Despicable Me 3</td>\n      <td>2017</td>\n      <td>2002</td>\n      <td>6</td>\n      <td>36.631519</td>\n      <td>Gru and his wife Lucy must stop former '80s ch...</td>\n      <td>http://www.despicable.me</td>\n      <td>1.020063e+09</td>\n      <td>6.120380e+09</td>\n    </tr>\n    <tr>\n      <th>30315</th>\n      <td>Inside Out</td>\n      <td>2015</td>\n      <td>6737</td>\n      <td>7</td>\n      <td>23.985587</td>\n      <td>Growing up can be a bumpy road, and it's no ex...</td>\n      <td>http://movies.disney.com/inside-out</td>\n      <td>8.576112e+08</td>\n      <td>6.003278e+09</td>\n    </tr>\n    <tr>\n      <th>7717</th>\n      <td>Shrek 2</td>\n      <td>2004</td>\n      <td>3082</td>\n      <td>6</td>\n      <td>16.22986</td>\n      <td>Shrek, Fiona and Donkey set off to Far, Far Aw...</td>\n      <td>http://www.shrek2.com/</td>\n      <td>9.198388e+08</td>\n      <td>5.519033e+09</td>\n    </tr>\n    <tr>\n      <th>13848</th>\n      <td>Ice Age: Dawn of the Dinosaurs</td>\n      <td>2009</td>\n      <td>2330</td>\n      <td>6</td>\n      <td>12.980624</td>\n      <td>Times are changing for Manny the moody mammoth...</td>\n      <td>http://www.iceagemovies.com/films/ice-age-dawn...</td>\n      <td>8.866868e+08</td>\n      <td>5.320121e+09</td>\n    </tr>\n    <tr>\n      <th>19139</th>\n      <td>Ice Age: Continental Drift</td>\n      <td>2012</td>\n      <td>2731</td>\n      <td>6</td>\n      <td>13.26958</td>\n      <td>Manny, Diego, and Sid embark upon another adve...</td>\n      <td>http://www.iceagemovies.com/films/ice-age-cont...</td>\n      <td>8.772448e+08</td>\n      <td>5.263469e+09</td>\n    </tr>\n    <tr>\n      <th>21101</th>\n      <td>Monsters University</td>\n      <td>2013</td>\n      <td>3622</td>\n      <td>7</td>\n      <td>16.267502</td>\n      <td>A look at the relationship between Mike and Su...</td>\n      <td>NaN</td>\n      <td>7.435596e+08</td>\n      <td>5.204917e+09</td>\n    </tr>\n    <tr>\n      <th>13724</th>\n      <td>Up</td>\n      <td>2009</td>\n      <td>7048</td>\n      <td>7</td>\n      <td>19.330884</td>\n      <td>Carl Fredricksen spent his entire life dreamin...</td>\n      <td>http://disney.go.com/disneypictures/up/</td>\n      <td>7.350991e+08</td>\n      <td>5.145694e+09</td>\n    </tr>\n  </tbody>\n</table>\n</div>"
     },
     "metadata": {},
     "execution_count": 41
    }
   ],
   "source": [
    "scifi = rec_gen_custom('Animation', 1000)\n",
    "scifi.head(15)"
   ]
  },
  {
   "source": [
    "Nuestro género favorito (decido por votación) es animación donde efectivamente, revisando el top 3, son películas de buena calificación y taquilleras, esto hace que tengan un alta probabilidad de ser vistas si se elige este genero. A Juan Camilo le gusta Toy Story 3 por encima de las otras Toy Story por haber crecido junto a ellas, a Camilo Zootopia y Minions y a Carlos Frozen porque su sobrina cantaba Libre Soy todo el tiempo, por ende, vemos que la métrica propuesta con estas 2 variables (vote_average y revenue) es acertada."
   ],
   "cell_type": "markdown",
   "metadata": {}
  }
 ],
 "metadata": {
  "coursera": {
   "course_slug": "neural-networks-deep-learning",
   "graded_item_id": "TSPse",
   "launcher_item_id": "24mxX"
  },
  "kernelspec": {
   "display_name": "Python 3",
   "language": "python",
   "name": "python3"
  },
  "language_info": {
   "codemirror_mode": {
    "name": "ipython",
    "version": 3
   },
   "file_extension": ".py",
   "mimetype": "text/x-python",
   "name": "python",
   "nbconvert_exporter": "python",
   "pygments_lexer": "ipython3",
   "version": "3.7.7-final"
  }
 },
 "nbformat": 4,
 "nbformat_minor": 2
}